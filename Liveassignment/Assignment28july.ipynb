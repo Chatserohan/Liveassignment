{
 "cells": [
  {
   "cell_type": "code",
   "execution_count": null,
   "metadata": {},
   "outputs": [],
   "source": []
  },
  {
   "cell_type": "markdown",
   "metadata": {},
   "source": [
    "1. Write answer to this questions\n"
   ]
  },
  {
   "cell_type": "markdown",
   "metadata": {},
   "source": [
    " Question 1: Write the Answer to these questions.\n",
    " Note: Give at least one example for each of the questions\n"
   ]
  },
  {
   "cell_type": "markdown",
   "metadata": {},
   "source": [
    "What is the difference between static and dynamic variables in Python?\n"
   ]
  },
  {
   "cell_type": "code",
   "execution_count": 1,
   "metadata": {},
   "outputs": [
    {
     "data": {
      "text/plain": [
       "'\\nDynamic variable change their value during runtime \\n\\nThey defined within the class functions or methods \\n\\nTheir scope is within the function in which they aredefined \\n\\nuse when we know the value of variable change every time acc to user\\n\\n'"
      ]
     },
     "execution_count": 1,
     "metadata": {},
     "output_type": "execute_result"
    }
   ],
   "source": [
    "# static variable \n",
    "\n",
    "'''\n",
    "In python static variable also called as class variable \n",
    "Static variable is common for all class functions or instance\n",
    "Static variable defined within the class i.e scope is global within class\n",
    "We can use this type of variable when we are using constant values that are required in all instance \n",
    "like value of pi = 3.14\n",
    "\n",
    "\n",
    "\n",
    "'''\n",
    "\n",
    "\n",
    "# Dynamic variable \n",
    "\n",
    "'''\n",
    "Dynamic variable change their value during runtime \n",
    "\n",
    "They defined within the class functions or methods \n",
    "\n",
    "Their scope is within the function in which they aredefined \n",
    "\n",
    "use when we know the value of variable change every time acc to user\n",
    "\n",
    "'''"
   ]
  },
  {
   "cell_type": "markdown",
   "metadata": {},
   "source": [
    "Explain the purpose of \"pop\"popitem\",\"clear()\" in a dictionary with suitable examples\n"
   ]
  },
  {
   "cell_type": "code",
   "execution_count": 2,
   "metadata": {},
   "outputs": [
    {
     "data": {
      "text/plain": [
       "'\\npopitem() \\nclear() is a dictionary methods used for delete all key value pairs from the dictionary \\n'"
      ]
     },
     "execution_count": 2,
     "metadata": {},
     "output_type": "execute_result"
    }
   ],
   "source": [
    "\n",
    "\n",
    "'''\n",
    "pop() - Remove specific key and value pair from dictionary\n",
    "\n",
    "popitem() - Remove the last added key value pair from dictionary and return it.\n",
    "\n",
    "clear() is a dictionary methods used for delete all key value pairs from the dictionary \n",
    "'''"
   ]
  },
  {
   "cell_type": "markdown",
   "metadata": {},
   "source": [
    " What do you mean by FrozenSet? Explain it with suitable examples\n"
   ]
  },
  {
   "cell_type": "code",
   "execution_count": 3,
   "metadata": {},
   "outputs": [
    {
     "name": "stdout",
     "output_type": "stream",
     "text": [
      "frozenset({1, 2, 3, 4, 5, 6, 7, 8, 9, 10, 11, 12})\n",
      "frozenset({8, 9, 7})\n",
      "frozenset({1, 2, 3, 4, 5, 6})\n",
      "True\n",
      "False\n",
      "False\n"
     ]
    }
   ],
   "source": [
    "# frozenset \n",
    "\n",
    "'''In python frozenset is a immutable set is a methods to create set of items but if once the frozenset is created then the \n",
    "data in frozen set is imutable means we can't add or delete data from this set. \n",
    "\n",
    "This set is useful when we ensure that set remains unchanged after creation such as keys in dictionaries \n",
    "\n",
    "We can perform some operations on frozen set, like read data check data is present in set or not \n",
    "we can also perform set operation like union, intersection and set diffrence on fromzen set \n",
    "\n",
    "There are methods like isSuperset() and isSubset() to check if set is superset or subset of other frozen set\n",
    "\n",
    "'''\n",
    "\n",
    "# example\n",
    "\n",
    "s1 = frozenset([1,2,3,4,5,6,7,8,9])\n",
    "s2 = frozenset([7,8,9,10,11,12])\n",
    "\n",
    "# union \n",
    "print(s1|s2)\n",
    "\n",
    "# Intersection\n",
    "print(s1 & s2)\n",
    "\n",
    "# Set Diffrence \n",
    "print(s1-s2)\n",
    "\n",
    "#check elements in set or not\n",
    "print(2 in s1)\n",
    "\n",
    "# isSubset()\n",
    "print(s2.issubset(s1))\n",
    "\n",
    "# isSuperset()\n",
    "print(s1.issuperset(s2))"
   ]
  },
  {
   "cell_type": "markdown",
   "metadata": {},
   "source": [
    "Differentiate between mutable and immutable data types in Python and give examples of mutable and\n",
    "Imutable"
   ]
  },
  {
   "cell_type": "code",
   "execution_count": 4,
   "metadata": {},
   "outputs": [
    {
     "data": {
      "text/plain": [
       "'In python there are serval mutable  and imutable data types present \\n\\nMutable data types \\n\\nMutable data type are those  m change or modified after creation  add or remove data from objects once it created change their original state\\ndata types and they do not return new objects.\\n\\ne.g \\n\\n'"
      ]
     },
     "execution_count": 4,
     "metadata": {},
     "output_type": "execute_result"
    }
   ],
   "source": [
    "'''In python there are serval mutable  and imutable data types present \n",
    "\n",
    "Mutable data types \n",
    "\n",
    "Mutable data type are those  m change or modified after creation  add or remove data from objects once it created change their original state\n",
    "data types and they do not return new objects.\n",
    "\n",
    "e.g \n",
    "\n",
    "'''"
   ]
  },
  {
   "cell_type": "markdown",
   "metadata": {},
   "source": [
    " What is\n",
    " init_?Explain with an example."
   ]
  },
  {
   "cell_type": "code",
   "execution_count": 5,
   "metadata": {},
   "outputs": [
    {
     "name": "stdout",
     "output_type": "stream",
     "text": [
      "rohan\n",
      "10\n"
     ]
    }
   ],
   "source": [
    "# __init__ method \n",
    "\n",
    "'''__init__ is a special type of method in python also known as constructor used when creating classes in \n",
    "python.\n",
    "\n",
    "This method automatically called every time we create a new class \n",
    "\n",
    "Double underscore in init method is indicates is a special method or magic method in python.\n",
    "\n",
    "__init__ takes a first parameter as a self we can use any thing in place of self but its a convention \n",
    "to use self, self allows to access to the instance attributes and methods from class \n",
    "\n",
    " '''\n",
    "\n",
    "# e.g\n",
    "\n",
    "class Student:\n",
    "\n",
    "    def __init__(self, name, sirname, age):\n",
    "        self.name = name \n",
    "        self.lastname = sirname\n",
    "        self.age = age \n",
    "\n",
    "stu1 = Student('rohan','chatse','10')\n",
    "\n",
    "print(stu1.name)\n",
    "print(stu1.age)\n"
   ]
  },
  {
   "cell_type": "markdown",
   "metadata": {},
   "source": [
    "What is docstring in Python?Explain with an example\n"
   ]
  },
  {
   "cell_type": "code",
   "execution_count": 6,
   "metadata": {},
   "outputs": [],
   "source": [
    "'''\n",
    "\n",
    "Docstring is a type of comment in python used for document the information about the function or classes\n",
    "We can write multi line comments using docstrings \n",
    "To use docstring we use triple quotes (double or single) doesn't matter \n",
    "\n",
    " def add(a,b):\n",
    "    \"\"\"This function take two argument a,b and return their sum \"\"\"\n",
    "        return a+b\n",
    "\n",
    "\n",
    "To access the doc string  we write print(add.__doc__)\n",
    "\n",
    "The docstring helps aurthor of \n",
    "code or other programmer to understand the code \n",
    "\n",
    "\n",
    "'''\n",
    "\n",
    "# eg\n",
    "def add(a,b):\n",
    "    \"\"\"This function take two argument a,b and return their sum \"\"\"\n",
    "    return a+b\n",
    "\n",
    "\n"
   ]
  },
  {
   "cell_type": "markdown",
   "metadata": {},
   "source": [
    "What are unit tests in Python?\n"
   ]
  },
  {
   "cell_type": "code",
   "execution_count": null,
   "metadata": {},
   "outputs": [],
   "source": []
  },
  {
   "cell_type": "markdown",
   "metadata": {},
   "source": [
    "What is break, continue and pass function in python?"
   ]
  },
  {
   "cell_type": "code",
   "execution_count": 7,
   "metadata": {},
   "outputs": [
    {
     "name": "stdout",
     "output_type": "stream",
     "text": [
      "[2, 4, 6, 8]\n"
     ]
    }
   ],
   "source": [
    "'''In python break, continue and pass are the functions used for controlled the flow of conditional and looping\n",
    "steatment to get our desired results \n",
    "\n",
    "\n",
    "break \n",
    "\n",
    "break function break the flow of looping or conditional steatment when the given condition is satisfied\n",
    "\n",
    "'''\n",
    "#eg \n",
    "\n",
    "for i in range(1,10):\n",
    "    if i == 7:\n",
    "        break \n",
    "\n",
    "\n",
    "''' \n",
    "continue \n",
    "continue is used when we want to skip some points while looping it can be useful when we want to filter out \n",
    "something \n",
    "'''\n",
    "\n",
    "# eg\n",
    "evens = []\n",
    "for i in range(1,10):\n",
    "    if i%2!=0:\n",
    "        continue \n",
    "    else:\n",
    "        evens.append(i)\n",
    "\n",
    "print(evens)\n",
    "\n",
    "\n",
    "''' \n",
    "pass function is does nothing it is a placeholder for future code we use when writing a flow of code \n",
    "\n",
    "'''\n",
    "# eg \n",
    "\n",
    "for i in range(1,10):\n",
    "    if i%2==0:\n",
    "        pass \n",
    "    else:\n",
    "        pass \n"
   ]
  },
  {
   "cell_type": "markdown",
   "metadata": {},
   "source": [
    "What is the use of self in python?"
   ]
  },
  {
   "cell_type": "code",
   "execution_count": 8,
   "metadata": {},
   "outputs": [
    {
     "name": "stdout",
     "output_type": "stream",
     "text": [
      "rohan\n",
      "None\n",
      "None\n",
      "sohan\n",
      "None\n"
     ]
    }
   ],
   "source": [
    "'''\n",
    "In python self is a first parameter passed in init methods \n",
    "It refers to the instance of the class on which the method is called.\n",
    "\n",
    "Use of self \n",
    "\n",
    "'self' allow us to access and modify instance attributes in the class \n",
    "self ensure that method operate on the correct instance \n",
    "\n",
    "self is used to call other method within the class \n",
    "\n",
    "display and update methods uses self to change the value of instance variable \n",
    " \n",
    "\n",
    "'''\n",
    "\n",
    "# e.g\n",
    "\n",
    "class Student:\n",
    "\n",
    "    def __init__(self, name, sirname, age):\n",
    "        self.name = 'rohan' \n",
    "        self.lastname = sirname\n",
    "        self.age = age\n",
    "\n",
    "    \n",
    "    def show(self):\n",
    "        print(self.name)\n",
    "    \n",
    "    def updatename(self,newname):\n",
    "        self.name = newname \n",
    "\n",
    "stu1 = Student('rohan','chatse','10')\n",
    "\n",
    "# print(stu1.name)\n",
    "# print(stu1.age)\n",
    "\n",
    "\n",
    "print(stu1.show())\n",
    "print(stu1.updatename('sohan'))\n",
    "print(stu1.show())\n",
    "\n"
   ]
  },
  {
   "cell_type": "markdown",
   "metadata": {},
   "source": [
    "What are global, protected and private\n",
    "attributes in Python?\n"
   ]
  },
  {
   "cell_type": "code",
   "execution_count": 9,
   "metadata": {},
   "outputs": [
    {
     "data": {
      "text/plain": [
       "' \\nPrivate attribute are also used for class level to it is impossible to access them outside the class\\nThey are defined using double underscore (__)\\n\\nWe defined private methods and attributes also \\n'"
      ]
     },
     "execution_count": 9,
     "metadata": {},
     "output_type": "execute_result"
    }
   ],
   "source": [
    "'''In python variables also called as attributes which have diffrent levels of access controls \n",
    "to use and modify \n",
    "\n",
    "levels like global, protected and private \n",
    "'''\n",
    "# Global attributes \n",
    "\n",
    "'''\n",
    "Global Attributes are available for whole code they operate on module level means we can \n",
    "use them anywhere in out code \n",
    "\n",
    "Global attributes not typically used within class but they can access through all methods\n",
    "in class\n",
    "\n",
    "eg.\n",
    "\n",
    "global_var = 10 \n",
    "\n",
    "class Newclass:\n",
    "    def __init__(self):\n",
    "        self.var = global_var \n",
    "\n",
    "\n",
    "        \n",
    "If global attributes defined within class they are use on class level only we can not \n",
    "use them outside class \n",
    "\n",
    "'''\n",
    "\n",
    "# protected \n",
    "\n",
    "''' \n",
    "protected attributes made to use within class and subclass only \n",
    "\n",
    "They defined using '_' at starting to indicate protected attributes but its only convention\n",
    "\n",
    "\n",
    "\n",
    "e.g \n",
    "\n",
    "self._protected_variable = value\n",
    "\n",
    "\n",
    "'''\n",
    "\n",
    "# Private Attributes \n",
    "\n",
    "''' \n",
    "Private attribute are also used for class level to it is impossible to access them outside the class\n",
    "They are defined using double underscore (__)\n",
    "\n",
    "We defined private methods and attributes also \n",
    "'''\n",
    "\n",
    "\n",
    "\n"
   ]
  },
  {
   "cell_type": "markdown",
   "metadata": {},
   "source": [
    "What are modules and packages in python?"
   ]
  },
  {
   "cell_type": "code",
   "execution_count": 10,
   "metadata": {},
   "outputs": [
    {
     "data": {
      "text/plain": [
       "'\\nIn python package is a  collection of various releted python modules arranged in organised way \\nmodule is a single file where the package is a directory containing modules.\\n\\nTo create package we create a directory and place all python module in it \\n__init__.py this file used to create packages\\n\\nTo use the package we need to import it in our code we can import whole package or specific module or a function \\nfrom it acc to our convient \\n\\n'"
      ]
     },
     "execution_count": 10,
     "metadata": {},
     "output_type": "execute_result"
    }
   ],
   "source": [
    "# module\n",
    "\n",
    "'''\n",
    "Modules are pre written code stored in python file \n",
    "\n",
    "This python file contain the various functions constants and classes\n",
    "\n",
    "In python module and python are the things which makes python special because there are prebuild \n",
    "modules and packages to build anything without worring about writing code from scratch and only focus on\n",
    "solving buisness problem \n",
    "\n",
    "To use the functions in module we need to import it in our code using import keyword and then writing module\n",
    "name \n",
    "\n",
    "Python contain various modules to perform almost anything from scraping data performing mathematical \n",
    "calculation to handle operating system \n",
    "\n",
    "eg. os, date and time \n",
    "\n",
    "We can create our own python module and use in other code \n",
    "'''\n",
    "\n",
    "\n",
    "# packages \n",
    "\n",
    "'''\n",
    "In python package is a  collection of various releted python modules arranged in organised way \n",
    "module is a single file where the package is a directory containing modules.\n",
    "\n",
    "To create package we create a directory and place all python module in it \n",
    "__init__.py this file used to create packages\n",
    "\n",
    "To use the package we need to import it in our code we can import whole package or specific module or a function \n",
    "from it acc to our convient \n",
    "\n",
    "'''\n",
    "\n"
   ]
  },
  {
   "cell_type": "markdown",
   "metadata": {},
   "source": [
    "What are lists and tupes what is key difference between the two?"
   ]
  },
  {
   "cell_type": "code",
   "execution_count": 11,
   "metadata": {},
   "outputs": [
    {
     "data": {
      "text/plain": [
       "'\\ntuples are immutable data structure means we can not add or delete element once it created \\ntuples are fast and memory efficient as compared to list \\n\\ntuples are fewer methods as cxompared to list because tuples are immutable\\n\\nTo create tuple we us ( ) this brackets\\n\\n'"
      ]
     },
     "execution_count": 11,
     "metadata": {},
     "output_type": "execute_result"
    }
   ],
   "source": [
    "'''\n",
    "In python list and tuples are data structure used to store data \n",
    "We can store data of any type like strings integers booleans or floats in data structure \n",
    "\n",
    "\n",
    "'''\n",
    "\n",
    "# list \n",
    "\n",
    "'''list is a mutable means we can add or remove element from it after list created\n",
    "    list contain various methods to perform operations on list\n",
    "    eg list.append() this method add data to list \n",
    "    where list.pop() this remove last element from list \n",
    "    len(list) return length of list \n",
    "\n",
    "    To create list we use squared brackets [ ]\n",
    "\n",
    "    We can stored list inside list makes is n-dimensional \n",
    "    we can iterate through list using looping steatments or check data is contain in list or not \n",
    "\n",
    "'''\n",
    "\n",
    "# tuple \n",
    "'''\n",
    "tuples are immutable data structure means we can not add or delete element once it created \n",
    "tuples are fast and memory efficient as compared to list \n",
    "\n",
    "tuples are fewer methods as cxompared to list because tuples are immutable\n",
    "\n",
    "To create tuple we us ( ) this brackets\n",
    "\n",
    "'''"
   ]
  },
  {
   "cell_type": "markdown",
   "metadata": {},
   "source": [
    "What is an Interpreted language & dynamically typed language?Write 5 differences between them.\n"
   ]
  },
  {
   "cell_type": "code",
   "execution_count": 12,
   "metadata": {},
   "outputs": [
    {
     "data": {
      "text/plain": [
       "'Python is both intrepted and dynamically typed langauge'"
      ]
     },
     "execution_count": 12,
     "metadata": {},
     "output_type": "execute_result"
    }
   ],
   "source": [
    "# Intrepted langauge \n",
    "\n",
    "'''\n",
    "In intrepted langauge code is exected directly by an intrepreter means code is \n",
    "executed line by line \n",
    "\n",
    "e.g Python, JavaScript, Ruby'''\n",
    "\n",
    "# key point \n",
    "\n",
    "'''The code is executed line by line by intrepted there is no seperate compilation step \n",
    "\n",
    "Intrepted langauge can be statically or dynamically typed \n",
    "\n",
    "Syntax and runtime error detected at runtime errors detected during execution which makes debugging hard \n",
    "\n",
    "They are more flexible to diffrent means the same code can run on any platform. \n",
    "\n",
    "The may slower than compiled langauge because code is executed line by line \n",
    "\n",
    "''' \n",
    "# Dynamically typed langauge \n",
    "\n",
    "'''A dynamically typed langauge variable types determined at runtime this means we do not need to declare \n",
    "type of variable during writing code. '''\n",
    "\n",
    "\n",
    "# Key points \n",
    "\n",
    "''' \n",
    "Variables do not need to declare type variable type automatically declare at run time\n",
    "error occured only when the code contain any problem \n",
    "\n",
    "They are slower because of overhead and type checking at runtime \n",
    "\n",
    "They also platform independent \n",
    "\n",
    "'''\n",
    "\n",
    "\n",
    "'''Python is both intrepted and dynamically typed langauge'''\n",
    "\n",
    "\n",
    "\n",
    "\n"
   ]
  },
  {
   "cell_type": "markdown",
   "metadata": {},
   "source": [
    "What are Dict and List comprehensions?\n"
   ]
  },
  {
   "cell_type": "code",
   "execution_count": 13,
   "metadata": {},
   "outputs": [
    {
     "name": "stdout",
     "output_type": "stream",
     "text": [
      "[2, 4, 6, 8]\n"
     ]
    },
    {
     "data": {
      "text/plain": [
       "{1: 1, 2: 4, 3: 9, 4: 16, 5: 25, 6: 36, 7: 49, 8: 64, 9: 81}"
      ]
     },
     "execution_count": 13,
     "metadata": {},
     "output_type": "execute_result"
    }
   ],
   "source": [
    "'''list and dictionary comprehensions is a convient way to write code in a single line\n",
    "They allows to iterate over and create lists on our demand \n",
    "\n",
    "Using comprehensions improves productivity by saving time writing long code and improve code readilibilty\n",
    "\n",
    "'''\n",
    "\n",
    "# list comprehensions syntax \n",
    "evens = [i for i in range(1,10) if i%2==0]\n",
    "print(evens)\n",
    "\n",
    "# dictionary comprension syntax \n",
    "'''dictionary comprehensions are similar to list comprehensions but they create dictionary'''\n",
    "\n",
    "square = {x: x**2 for x in range(1,10)}\n",
    "square"
   ]
  },
  {
   "cell_type": "markdown",
   "metadata": {},
   "source": [
    "What are decorators in python explain it with example .Write down its use cases.\n"
   ]
  },
  {
   "cell_type": "code",
   "execution_count": 1,
   "metadata": {},
   "outputs": [
    {
     "name": "stdout",
     "output_type": "stream",
     "text": [
      "8\n",
      "27\n"
     ]
    },
    {
     "data": {
      "text/plain": [
       "'Decorators used in logging, memoization, Authorization techiniques in python '"
      ]
     },
     "execution_count": 1,
     "metadata": {},
     "output_type": "execute_result"
    }
   ],
   "source": [
    "'''In python decorators inhance the functionality of functions without changing their code \n",
    "\n",
    "Decorators takes another functions and enhance their ability \n",
    "\n",
    "How it works \n",
    "\n",
    "we define a function that takes an another function as a argument \n",
    "inside this function we define a wrapper function conventionally named as wrapper which wraps the original function\n",
    "\n",
    "In last the decorator function return the wrappeer function \n",
    "\n",
    "we use @decorate_funcname just above any function to inhanced the functionality of that function\n",
    "'''\n",
    "\n",
    "# e.g\n",
    "\n",
    "def cube_finder(func):\n",
    "    def wrapper(*args, **kwargs):\n",
    "        result = func(*args, **kwargs)\n",
    "        return result ** 3\n",
    "    return wrapper\n",
    "\n",
    "@cube_finder\n",
    "def func1(x):\n",
    "    return x\n",
    "\n",
    "print(func1(2)) \n",
    "print(func1(3)) \n",
    "\n",
    "\n",
    "\n",
    "# Use cases \n",
    "\n",
    "'''Decorators used in logging, memoization, Authorization techiniques in python '''\n"
   ]
  },
  {
   "cell_type": "markdown",
   "metadata": {},
   "source": [
    "How is memory managed in python?"
   ]
  },
  {
   "cell_type": "code",
   "execution_count": null,
   "metadata": {},
   "outputs": [],
   "source": [
    "''' \n",
    "Memory management in Python is handled through a combination of reference counting and garbage \n",
    "collection mechanisms. \n",
    "\n",
    "Python uses reference counting to keep track of the number of references to each object. \n",
    "When the reference count drops to zero, meaning no references to the object remain, the memory \n",
    "occupied by the object is immediately deallocated. \n",
    "\n",
    "However, reference counting alone cannot handle cyclic references—situations where objects \n",
    "reference each other, creating a loop that prevents their reference counts from reaching zero. \n",
    "\n",
    "To address this, Python incorporates a garbage collector that detects and cleans up these reference \n",
    "cycles. \n",
    "\n",
    "The garbage collector periodically identifies and frees objects involved in reference cycles \n",
    "that are no longer reachable from the root of the object graph. \n",
    "\n",
    "This dual approach of reference counting and garbage collection ensures efficient memory management, \n",
    "minimizing memory leaks and optimizing resource utilization in Python applications.\n",
    "\n",
    "'''"
   ]
  },
  {
   "cell_type": "markdown",
   "metadata": {},
   "source": [
    "What is lambda in Python?"
   ]
  },
  {
   "cell_type": "code",
   "execution_count": null,
   "metadata": {},
   "outputs": [
    {
     "data": {
      "text/plain": [
       "11"
      ]
     },
     "execution_count": 1,
     "metadata": {},
     "output_type": "execute_result"
    }
   ],
   "source": [
    "'''In python lambda are used to defined anonymous functions i.e function without name\n",
    "lambda functions used to defined function in a short form to save time and improve code readibility\n",
    "'''\n",
    "\n",
    "# characterstics\n",
    "\n",
    "'''We don't need to use def keyword to define the lambda function as we used in traditional process\n",
    "\n",
    "They defined in single lines means we can not used them to make large functions they defined to \n",
    "do simple works fast \n",
    "\n",
    "The result automatically return by lambda function\n",
    "\n",
    "\n",
    "'''\n",
    "\n",
    "# e.g \n",
    "\n",
    "add = lambda a,b:a+b \n",
    "add(5,6)\n",
    "'''This function takes two arguments a,b and return their sum'''\n",
    "# use cases  \n",
    "\n",
    "'''They find very helpful with other functions like sorted(), map(), and filter() functions'''ArithmeticError\n",
    "'''Lambda functions are a convenient tool in Python for creating simple functions quickly and succinctly,\n",
    " especially when a full function definition would be unnecessary.'''\n",
    "\n",
    "\n"
   ]
  },
  {
   "cell_type": "markdown",
   "metadata": {},
   "source": [
    "Explain split() and join functions in python?"
   ]
  },
  {
   "cell_type": "code",
   "execution_count": null,
   "metadata": {},
   "outputs": [
    {
     "name": "stdout",
     "output_type": "stream",
     "text": [
      "['Hello', 'world']\n",
      "['hello', 'word', 'python', 'program']\n"
     ]
    }
   ],
   "source": [
    "'''In python split() and join() methods are used to manuplate strings also called as string methods\n",
    "split() split or divide string into components and join() combine multiple strings or words together\n",
    "'''\n",
    "\n",
    "'''split() divide the string into list of substrings based on specific delimeter'''\n",
    "\n",
    "'''Syntax \n",
    "\n",
    "str.split([separator[, maxsplit]])\n",
    "\n",
    "There are seperator like , or white spaces \"\" to split string  \n",
    "'''\n",
    "\n",
    "# e.g\n",
    "\n",
    "text = \"Hello world \"\n",
    "result = text.split()\n",
    "print(result)  # Output: ['Hello', 'world']\n",
    "\n",
    "csv_text = \"hello,word,python,program\"\n",
    "result = csv_text.split(',')\n",
    "print(result)\n",
    "\n",
    "\n",
    "\n",
    "# Join() \n",
    "\n",
    "'''join method used to join diffrent strings into single string also knows as concating strings,\n",
    "with a specified separator between each element.'''\n",
    "\n",
    "# syntax \n",
    "'''separator.join(iterable)'''\n",
    "'''iterable means any list or tuples '''\n",
    "\n",
    "# e.g \n",
    "\n",
    "words = ['Hello', 'world', 'Python']\n",
    "result = ' '.join(words)\n",
    "print(result) \n",
    "\n",
    "\n",
    "\n",
    "'''Both methods are essential for text processing and data manipulation in Python,\n",
    " making it easy to handle and format strings in a diffrent of ways.'''\n",
    "\n",
    "\n",
    "\n"
   ]
  },
  {
   "cell_type": "markdown",
   "metadata": {},
   "source": [
    " What are iterators , iterable & generators in Python?\n"
   ]
  },
  {
   "cell_type": "code",
   "execution_count": null,
   "metadata": {},
   "outputs": [],
   "source": [
    "#iterable \n",
    "\n",
    "'''An iterable is any Python object that can return an iterator.\n",
    " It is an object capable of returning its members one at a time\n",
    "allowing us to iterate over it.'''\n",
    "\n",
    "\n",
    "#iterators\n",
    "'''An iterator is an object that represents a stream of data\n",
    " it returns data one element at a time.\n",
    "\n",
    " It contains the two methods to processed \n",
    "\n",
    " __iter__() and __next__()\n",
    "  \n",
    "'''\n",
    "\n",
    "#generators\n",
    "'''Generators are a  type of iterator that are created using functions named yield keyword\n",
    "\n",
    "They provide a way to produce values one at a time from iterators.\n",
    "'''"
   ]
  },
  {
   "cell_type": "markdown",
   "metadata": {},
   "source": [
    "What is the difference between xrange and range in Python?\n"
   ]
  },
  {
   "cell_type": "code",
   "execution_count": null,
   "metadata": {},
   "outputs": [],
   "source": []
  },
  {
   "cell_type": "markdown",
   "metadata": {},
   "source": [
    "Pillars of Oops."
   ]
  },
  {
   "cell_type": "code",
   "execution_count": null,
   "metadata": {},
   "outputs": [],
   "source": [
    "'''oop is a organized way of writing and manage the code \n",
    "There are four pillors of oop in python \n",
    "Encapsulation,Inheritance,Polymorphism,Abstraction \n",
    "this are core concepts of oop \n",
    "'''\n",
    "\n",
    "#Encapsulation \n",
    "\n",
    "'''Encapsulation means hiding data  \n",
    "It restricts direct access to the class components \n",
    "'''\n",
    "'''Encapsulation helps in  break code into diffrent units which makes code easy to manage and understand'''\n",
    "\n",
    "# Inheritance  \n",
    "\n",
    "'''Inheritance means one class can inherite attributes or methods from another class\n",
    "The child class inherite attributes or methods from its parent class \n",
    "'''\n",
    "\n",
    "''':\n",
    "Inheritance allows the creation of new classes which reuse, or modify the behavior of parent classes.'''\n",
    "\n",
    "\n",
    "#Polymorphism\n",
    "\n",
    "'''Polymorphism Enables objects of different classes to be treated as objects of a common superclass and \n",
    "respond to the same method call in different ways.''' \n",
    "\n",
    "\n",
    "#Abstraction\n",
    "\n",
    "'''Abstraction means hiding the unnecessary complexity from the user '''"
   ]
  },
  {
   "cell_type": "markdown",
   "metadata": {},
   "source": [
    "How will you check if a class is a child of another class?"
   ]
  },
  {
   "cell_type": "code",
   "execution_count": null,
   "metadata": {},
   "outputs": [],
   "source": [
    "'''In python if we want to check if is any class is a child of another class \n",
    "we use issubclass() method\n",
    "\n",
    "This return True if the class is child class of another class \n",
    "'''"
   ]
  },
  {
   "cell_type": "markdown",
   "metadata": {},
   "source": [
    "How does inheritance work in python? Explain all types of inheritance with an example.\n"
   ]
  },
  {
   "cell_type": "code",
   "execution_count": null,
   "metadata": {},
   "outputs": [],
   "source": [
    "\n",
    "'''Inheritance means one class can inherite attributes or methods from another class\n",
    "The child class inherite attributes or methods from its parent class \n",
    "'''\n",
    "\n",
    "''':\n",
    "Inheritance allows the creation of new classes which reuse, or modify the behavior of parent classes.'''\n",
    "\n",
    "\n",
    "# How inheritance works  \n",
    "\n",
    "'''Two use inheritance we need to defined two class one is parent class from which attributes or methods \n",
    "are geting inherited and a child class who inherites them \n",
    "\n",
    "To use methods and attributes of parent class we have to pass parent class name as a argument while \n",
    "defining child class and then we can use them \n",
    "\n",
    "'''\n",
    "\n",
    "# e.g \n",
    "\n",
    "class Animal:\n",
    "    def speak(self):\n",
    "        return \"Animal speaks\"\n",
    "\n",
    "class Dog(Animal):\n",
    "    def bark(self):\n",
    "        return \"Dog barks\"\n",
    "\n",
    "dog = Dog()\n",
    "print(dog.speak())  \n",
    "print(dog.bark())   \n",
    "\n",
    "#There are 5 types of inheritance \n",
    "\n",
    "#Single inheritance \n",
    "'''One class inherited from single base class'''\n",
    "#Multiple inheritance \n",
    "\n",
    "'''A class inherited from multiple base classes '''\n",
    "\n",
    "#Multilevel inheritance \n",
    "\n",
    "'''A class inherited from another derived class'''\n",
    "\n",
    "# Multiple inheritance \n",
    "\n",
    "'''A class inherited from multiple base or parent classes'''\n",
    "\n",
    "# Hierarchical Inheritance\n",
    "\n",
    "'''Multiple classes inherited from single parent class'''"
   ]
  },
  {
   "cell_type": "markdown",
   "metadata": {},
   "source": [
    " What is encapsulation? Explain it with an example"
   ]
  },
  {
   "cell_type": "code",
   "execution_count": null,
   "metadata": {},
   "outputs": [],
   "source": [
    "'''Encapsulation means hiding data  \n",
    "It restricts direct access to the class components \n",
    "'''\n",
    "'''Encapsulation helps in  break code into diffrent units \n",
    "which makes code easy to manage and understand'''\n",
    "\n",
    "\n",
    "# e.g \n",
    "class BankAccount:\n",
    "    def __init__(self, balance):\n",
    "        self.__balance = balance  \n",
    "\n",
    "    def deposit(self, amount):\n",
    "        if amount > 0:\n",
    "            self.__balance += amount\n",
    "\n",
    "    def withdraw(self, amount):\n",
    "        if 0 < amount <= self.__balance:\n",
    "            self.__balance -= amount\n",
    "\n",
    "    def get_balance(self):\n",
    "        return self.__balance\n",
    "\n",
    "'''We create a BankAccount class which contain a __balance attribute means we do not \n",
    "directly access this attribute hence we create methods to access it using self keyword'''\n",
    "\n",
    "account = BankAccount(10000)\n",
    "account.deposit(5000)\n",
    "print(account.get_balance())  \n"
   ]
  },
  {
   "cell_type": "markdown",
   "metadata": {},
   "source": [
    "What is polymorphism? Explain it with an example."
   ]
  },
  {
   "cell_type": "code",
   "execution_count": null,
   "metadata": {},
   "outputs": [],
   "source": [
    "'''Polymorphism is a core concept in oop\n",
    "In polymorphism the objects or methods od diffrent classes used as objects of common super class \n",
    "\n",
    "polymorphism means we can use the same function or method name to do different things\n",
    "\n",
    "\n",
    "'''"
   ]
  },
  {
   "cell_type": "markdown",
   "metadata": {},
   "source": []
  },
  {
   "cell_type": "markdown",
   "metadata": {},
   "source": [
    "Q2.Which of the following identifier names are invalid and why?"
   ]
  },
  {
   "cell_type": "code",
   "execution_count": 15,
   "metadata": {},
   "outputs": [
    {
     "data": {
      "text/plain": [
       "'Option b is not valid because identifier must not be start with any digits or special character '"
      ]
     },
     "execution_count": 15,
     "metadata": {},
     "output_type": "execute_result"
    }
   ],
   "source": [
    "# ans \n",
    "'''Option b is not valid because identifier must not be start with any digits or special character '''"
   ]
  },
  {
   "cell_type": "markdown",
   "metadata": {},
   "source": [
    "Q1.3 \n",
    "name =['Mohan','dash','karam','chandra','gandhi','Bapu']  \n",
    "\n",
    "do the following operations on list\n",
    "a)Add an element freedom_fighter at the 0th index\n",
    "b)find the output of the following and explain how \n",
    "\n",
    "name =['freedomFighter','dash','karam','chandra','gandhi','Bapu']  \n",
    "\n",
    "length1 = len((name[-len(name)+1:-1:2]))\n",
    "length2 = len((name[-len(name)+1:-1]))\n",
    "print(length1+length2)"
   ]
  },
  {
   "cell_type": "code",
   "execution_count": null,
   "metadata": {},
   "outputs": [
    {
     "name": "stdout",
     "output_type": "stream",
     "text": [
      "['freedomFighter', 'Mohan', 'dash', 'karam', 'chandra', 'gandhi', 'Bapu']\n",
      "8\n"
     ]
    }
   ],
   "source": [
    "name =['Mohan','dash','karam','chandra','gandhi','Bapu']\n",
    "name.insert(0,'freedomFighter')\n",
    "\n",
    "print(name)\n",
    "\n",
    "length1 = len((name[-len(name)+1:-1:2]))\n",
    "length2 = len((name[-len(name)+1:-1]))\n",
    "\n",
    "print(length1+length2)\n",
    "\n"
   ]
  },
  {
   "cell_type": "markdown",
   "metadata": {},
   "source": [
    "c.Add two more elements in the name ['Netaji','Bose'] at the end of the list."
   ]
  },
  {
   "cell_type": "code",
   "execution_count": null,
   "metadata": {},
   "outputs": [
    {
     "name": "stdout",
     "output_type": "stream",
     "text": [
      "['freedomFighter', 'Mohan', 'dash', 'karam', 'chandra', 'gandhi', 'Bapu', 'Netaji', 'Bose']\n"
     ]
    }
   ],
   "source": [
    "name.extend(['Netaji','Bose']) \n",
    "print(name)"
   ]
  },
  {
   "cell_type": "markdown",
   "metadata": {},
   "source": [
    "D.What will be the value of temp.\n",
    "\n",
    "name =['Bapuji','dash','karam','chandra','gandhi','Mohan']\n",
    "temp = name[-1]\n",
    "name[-1]= name[0]\n",
    "name[0]= temp \n",
    "print(name)  \n"
   ]
  },
  {
   "cell_type": "code",
   "execution_count": null,
   "metadata": {},
   "outputs": [
    {
     "name": "stdout",
     "output_type": "stream",
     "text": [
      "Mohan\n"
     ]
    }
   ],
   "source": [
    "name =['Bapuji','dash','karam','chandra','gandhi','Mohan']\n",
    "temp = name[-1]\n",
    "name[-1]= name[0]\n",
    "name[0]= temp \n",
    "# print(name)  \n",
    "print(temp)"
   ]
  },
  {
   "cell_type": "code",
   "execution_count": null,
   "metadata": {},
   "outputs": [],
   "source": []
  },
  {
   "cell_type": "markdown",
   "metadata": {},
   "source": [
    "Q1.4.Find the output of the following.\n",
    "\n",
    "animal = ['Human','cat','mat','cat','rat','Human','Lion']\n",
    "print(animal.count('Human'))\n",
    "print(animal.index('rat'))\n",
    "print(len(animal))"
   ]
  },
  {
   "cell_type": "code",
   "execution_count": null,
   "metadata": {},
   "outputs": [
    {
     "name": "stdout",
     "output_type": "stream",
     "text": [
      "2\n",
      "4\n",
      "7\n"
     ]
    }
   ],
   "source": [
    "\n",
    "animal = ['Human','cat','mat','cat','rat','Human','Lion']\n",
    "print(animal.count('Human'))\n",
    "print(animal.index('rat'))\n",
    "print(len(animal))"
   ]
  },
  {
   "cell_type": "code",
   "execution_count": null,
   "metadata": {},
   "outputs": [],
   "source": []
  },
  {
   "cell_type": "markdown",
   "metadata": {},
   "source": [
    "Q1.5.tuple1 = (10,20,'Apple',3.4,'a',['Master','ji'],('sita','geeta',22),[{'roll_no':1},{'name':'Navneet'}])\n"
   ]
  },
  {
   "cell_type": "code",
   "execution_count": null,
   "metadata": {},
   "outputs": [
    {
     "name": "stdout",
     "output_type": "stream",
     "text": [
      "The length of tuple is  8\n",
      "Question 2 answer is Navneet\n",
      "The value of roll_no from the tuple is 1\n",
      "The answer of question 4 is  ji\n"
     ]
    },
    {
     "data": {
      "text/plain": [
       "22"
      ]
     },
     "execution_count": 43,
     "metadata": {},
     "output_type": "execute_result"
    }
   ],
   "source": [
    "tuple1 = (10,20,'Apple',3.4,'a',['Master','ji'],('sita','geeta',22),[{'roll_no':1},{'name':'Navneet'}])\n",
    "\n",
    "# a.print(len(tuple))\n",
    "print('The length of tuple is ', len(tuple1))\n",
    "\n",
    "# b.print(tuple[-1][-1]['name'])\n",
    "\n",
    "print('Question 2 answer is',tuple1[-1][-1]['name'])\n",
    "\n",
    "# c.fetch the value of roll_no from this tuple\n",
    "\n",
    "temp = tuple1[7]\n",
    "my_dict = temp[0]\n",
    "value = my_dict['roll_no']\n",
    "print('The value of roll_no from the tuple is',value)\n",
    "\n",
    "# d.print(tuple[-3][1])\n",
    "print('The answer of question 4 is ',tuple1[-3][1])\n",
    "\n",
    "# e.fetch the element '22' from this tuple \n",
    "var = tuple1[6]\n",
    "ans = var[-1]\n",
    "ans "
   ]
  },
  {
   "cell_type": "markdown",
   "metadata": {},
   "source": [
    "1.6.Write a program to display the appropriate message as per the color of signal(RED-Stop/Yellow-stay/Green-Go) at the road crossing"
   ]
  },
  {
   "cell_type": "code",
   "execution_count": null,
   "metadata": {},
   "outputs": [
    {
     "name": "stdout",
     "output_type": "stream",
     "text": [
      "Go\n"
     ]
    }
   ],
   "source": [
    "\n",
    "color = input('Enter a color name')\n",
    "if color == 'Red':\n",
    "    print('Stop')\n",
    "elif color == 'Yellow':\n",
    "    print('Stay')\n",
    "elif color == 'Green':\n",
    "    print('Go')\n",
    "else:\n",
    "    print('Enter only green, red, yellow color')"
   ]
  },
  {
   "cell_type": "markdown",
   "metadata": {},
   "source": [
    "1.7.Write a program to create a simple calculator performing only four basic operations(+-*/)"
   ]
  },
  {
   "cell_type": "code",
   "execution_count": null,
   "metadata": {},
   "outputs": [
    {
     "name": "stdout",
     "output_type": "stream",
     "text": [
      "4\n"
     ]
    }
   ],
   "source": [
    "num1 = int(input('Enter first number'))\n",
    "num2 = int(input('Enter second number'))\n",
    "oper = input('Choose any \"+\",\"-\",\"*\",\"/\"')\n",
    "if oper == '+':\n",
    "    print(num1+num2)\n",
    "elif oper == '-':\n",
    "    print(num1-num2)\n",
    "elif oper == '*':\n",
    "    print(num1*num2)\n",
    "elif oper == '/':\n",
    "    print(num1/num2)\n",
    "else:\n",
    "    print('Please choose any operation from above')"
   ]
  },
  {
   "cell_type": "markdown",
   "metadata": {},
   "source": [
    "1.8.Write a program to find the larger of the three pre-specified numbers using ternary operators."
   ]
  },
  {
   "cell_type": "code",
   "execution_count": null,
   "metadata": {},
   "outputs": [
    {
     "name": "stdout",
     "output_type": "stream",
     "text": [
      "30\n"
     ]
    }
   ],
   "source": [
    "num1= 10\n",
    "num2 = 20\n",
    "num3 = 30\n",
    "\n",
    "if num1> num2 and num1 >num3:\n",
    "    print(num1)\n",
    "elif num2> num1 and num2>num3:\n",
    "    print(num2)\n",
    "else:\n",
    "    print(num3)"
   ]
  },
  {
   "cell_type": "markdown",
   "metadata": {},
   "source": [
    "1.9.Write a program to find the factors of a whole number using a while loop."
   ]
  },
  {
   "cell_type": "code",
   "execution_count": null,
   "metadata": {},
   "outputs": [
    {
     "name": "stdout",
     "output_type": "stream",
     "text": [
      "[1, 2, 3, 4, 6, 9, 12, 18, 36]\n"
     ]
    }
   ],
   "source": [
    "n = 36\n",
    "factors = [i for i in range(1, n + 1) if n % i == 0]\n",
    "print(factors)\n",
    "\n"
   ]
  },
  {
   "cell_type": "markdown",
   "metadata": {},
   "source": [
    "1.10.Write a program to find the sum of all positive numbers entred by the user,As soon as the user enters a negative number, stop taking in anyfurther input from the user and display the sum."
   ]
  },
  {
   "cell_type": "code",
   "execution_count": null,
   "metadata": {},
   "outputs": [
    {
     "name": "stdout",
     "output_type": "stream",
     "text": [
      "55\n"
     ]
    }
   ],
   "source": [
    "ans = 0\n",
    "\n",
    "while True:\n",
    "    n = int(input(('Enter a number')))\n",
    "    if n < 0:\n",
    "        print(ans)\n",
    "        break\n",
    "    ans+=n\n",
    "   \n"
   ]
  },
  {
   "cell_type": "markdown",
   "metadata": {},
   "source": [
    "1.11.Write a program to find prime numbers between 2 to 100 using nested for loops."
   ]
  },
  {
   "cell_type": "code",
   "execution_count": null,
   "metadata": {},
   "outputs": [],
   "source": []
  },
  {
   "cell_type": "markdown",
   "metadata": {},
   "source": [
    "1.12.Write the program for the following.\n",
    "Accept the marks of the student in five major subject and display the same \n",
    "\n",
    "Calculate the sum of the marks of all subjects. Divide the total marks by the number of subjects calculate percentage = total / 5 and display the percentage \n",
    "find the grade of the student as per the following criteri\n",
    "\n"
   ]
  },
  {
   "cell_type": "code",
   "execution_count": null,
   "metadata": {},
   "outputs": [
    {
     "name": "stdout",
     "output_type": "stream",
     "text": [
      "You got Grade C\n"
     ]
    }
   ],
   "source": [
    " \n",
    "obtain = 0\n",
    "total = 600 \n",
    "subjects = ['Lang1','lang2','Math','Bio','Physics','Chemistry']\n",
    "for i in range(len(subjects)):\n",
    "    n = int(input(f'Enter marks in {subjects[i]}'))\n",
    "    obtain +=n \n",
    "\n",
    "percent  = ((obtain)/total)*100\n",
    "percent\n",
    "\n",
    "if percent > 85:\n",
    "    print('You got Grade A')\n",
    "elif percent <85 and percent>=75:\n",
    "    print('You got Grade B')\n",
    "elif percent <75 and percent >=50:\n",
    "    print('You got Grade C')\n",
    "elif percent>30 and percent <=50:\n",
    "    print('You got Grade D')\n",
    "elif percent<30:\n",
    "    print('Reappear')\n"
   ]
  },
  {
   "cell_type": "markdown",
   "metadata": {},
   "source": [
    "1.13. write a program for VIBGYOR Spectrumbased on their Wavelength using Wavelength Range."
   ]
  },
  {
   "cell_type": "code",
   "execution_count": null,
   "metadata": {},
   "outputs": [
    {
     "name": "stdout",
     "output_type": "stream",
     "text": [
      "Indigo\n"
     ]
    }
   ],
   "source": [
    "wavelength = 456\n",
    "\n",
    "if wavelength in range(400,440):\n",
    "    print('Violet')\n",
    "elif wavelength in range(440,460):\n",
    "    print('Indigo')\n",
    "elif wavelength in range(460,500):\n",
    "    print('Blue')\n",
    "elif wavelength in range(500,570):\n",
    "    print('Green')\n",
    "elif wavelength in range(570,590):\n",
    "    print('Yellow')\n",
    "elif wavelength in range(590, 620):\n",
    "    print('Orange')\n",
    "elif wavelength in range(620,720):\n",
    "    print('Red')\n",
    "else:\n",
    "    print('Please enter wavelength between 400 to 720')"
   ]
  },
  {
   "cell_type": "markdown",
   "metadata": {},
   "source": [
    "1.14.Consider the gravitional interactions between the earth, moon, and sun in solor system.\n",
    "Given \n",
    "\n",
    "mass_earth = 5.972e24\n",
    "mass_moon = 7.34767309e22 \n",
    "mass_sun = 1.989e30 \n",
    "\n",
    "distance_earth_sun = 1.496e11 \n",
    "distance_moon_earth = 3.844e8"
   ]
  },
  {
   "cell_type": "code",
   "execution_count": null,
   "metadata": {},
   "outputs": [
    {
     "name": "stdout",
     "output_type": "stream",
     "text": [
      "Gravitational force between Sun and Earth: 3.5423960813684973e+22 N\n",
      "Gravitational force between Moon and Earth: 1.9820225456526813e+20 N\n",
      "The gravitational force between the Sun and Earth is stronger.\n"
     ]
    }
   ],
   "source": [
    "\n",
    "mass_earth = 5.972e24  \n",
    "mass_moon = 7.34767309e22  \n",
    "mass_sun = 1.989e30  \n",
    "distance_earth_sun = 1.496e11  \n",
    "distance_moon_earth = 3.844e8  \n",
    "G = 6.67430e-11  \n",
    "\n",
    "# A. Calculate gravitational force between Sun and Earth\n",
    "F_sun_earth = G * (mass_earth * mass_sun) / (distance_earth_sun ** 2)\n",
    "print(\"Gravitational force between Sun and Earth:\", F_sun_earth, \"N\")\n",
    "\n",
    "# B. Calculate gravitational force between Moon and Earth\n",
    "F_moon_earth = G * (mass_moon * mass_earth) / (distance_moon_earth ** 2)\n",
    "\n",
    "print(\"Gravitational force between Moon and Earth:\", F_moon_earth, \"N\")\n",
    "\n",
    "# D. Explain which celestial bosy(Earth or Moon) is more attracted to the other based on the comparison\n",
    "if F_sun_earth > F_moon_earth:\n",
    "    print(\"The gravitational force between the Sun and Earth is stronger.\")\n",
    "elif F_moon_earth > F_sun_earth:\n",
    "    print(\"The gravitational force between the Moon and Earth is stronger.\")\n",
    "else:\n",
    "    print(\"The gravitational forces between the Sun-Earth and Moon-Earth are equal.\")\n"
   ]
  },
  {
   "cell_type": "markdown",
   "metadata": {},
   "source": [
    "2.Design and implement a Python program for managing student information using object-oriented\n",
    " principles. Create a class called 'Student` with encapsulated attributes for name, age, and roll number.\n",
    " Implement getter and setter methods for these attributes. Additionally, provide methods to display student\n",
    "information and update student details\n",
    "\n",
    "Tasks:\n",
    "1.Define the Student class with encapsulated attributes.\n",
    "2.Implement getter and setter methods for the attributes\n",
    "3.Write methods to display student information and update details.\n",
    "4.Create instances of the Student class and test the implemented functionality."
   ]
  },
  {
   "cell_type": "code",
   "execution_count": 2,
   "metadata": {},
   "outputs": [
    {
     "name": "stdout",
     "output_type": "stream",
     "text": [
      "Name: rohanchatse\n",
      "Age: 24\n",
      "None\n",
      "Name: sohanchatse\n",
      "Age: 24\n"
     ]
    }
   ],
   "source": [
    "class Student:\n",
    "    def __init__(self,firstname, lastname, age):\n",
    "\n",
    "        self._firstname = firstname\n",
    "        self._lastname = lastname\n",
    "        self._age = age \n",
    "\n",
    "    \n",
    "    def get_full_name(self):\n",
    "        return self._firstname + self._lastname \n",
    "    \n",
    "    def set_firstname(self,firstname):\n",
    "        self._firstname = firstname \n",
    "    \n",
    "    def set_lastname(self,lastname):\n",
    "        self._lastname = lastname \n",
    "\n",
    "    def display_info(self):\n",
    "        print(f\"Name: {self._firstname}{self._lastname}\")\n",
    "        print(f\"Age: {self._age}\")\n",
    "\n",
    "\n",
    "stu1 = Student('rohan','chatse',24)\n",
    "\n",
    "stu1.display_info()\n",
    "print(stu1.set_firstname('sohan'))\n",
    "stu1.display_info()\n",
    "\n",
    "\n"
   ]
  },
  {
   "cell_type": "markdown",
   "metadata": {},
   "source": [
    "3.Develop a Python program for managing library resources efficiently. Design a class named `LibraryBook*\n",
    " with attributes like book name, author, and availability status. Implement methods for borrowing and\n",
    " returning books while ensuring proper encapsulation of attributes.\n",
    " Tasks:\n",
    " \n",
    " 1. Create the LibraryBook class with encapsulated attributes.\n",
    " 2. Implement methods for borrowing and returning books\n",
    " 3. Ensure proper encapsulation to protect book details.\n",
    " 4. Test the borrowing and returning functionality with sample data\n",
    " "
   ]
  },
  {
   "cell_type": "code",
   "execution_count": 12,
   "metadata": {},
   "outputs": [
    {
     "name": "stdout",
     "output_type": "stream",
     "text": [
      "You have successfully borrowed data science book  by rohan.\n",
      "Thank you for returning data science by rohan\n"
     ]
    }
   ],
   "source": [
    "class LibraryBook:\n",
    "    def __init__(self,bookname,author):\n",
    "        self._bookname = bookname\n",
    "        self._author = author\n",
    "        self._available = True \n",
    "\n",
    "    def borrow_book(self):\n",
    "        if self._available:\n",
    "            self._available = False\n",
    "            print(f\"You have successfully borrowed {self._bookname} book  by {self._author}.\")\n",
    "        else:\n",
    "            print(f\"Sorry, '{self._bookname}' by {self._author} is currently unavailable.\")\n",
    "    \n",
    "    def return_book(self):\n",
    "        if not self._available:\n",
    "            self._available = True \n",
    "            print(f'Thank you for returning { self._bookname} by {self._author}')\n",
    "\n",
    "l1 = LibraryBook('data science','rohan')\n",
    "l1.borrow_book()\n",
    "l1.return_book()\n",
    "    "
   ]
  },
  {
   "cell_type": "markdown",
   "metadata": {},
   "source": [
    "4.Create a simple banking system using object-oriented concepts in Python. Design classes representing\n",
    " different types of bank accounts such as savings and checking. Implement methods for deposit, withdraw,\n",
    " and balance inquiry. Utilize inheritance to manage different account types efficiently.\n",
    "Tasks:\n",
    " 1. Define base class(es) for bank accounts with common attributes and methods\n",
    " 2. Implement subclasses for specific account types (e.g, SavingsAccount, CheckingAccount)\n",
    " 3. Provide methods for deposit, withdraw, and balance inquiry in each subclass\n",
    " 4. Test the banking system by creating instances of different account types and performing transactions.\n"
   ]
  },
  {
   "cell_type": "code",
   "execution_count": null,
   "metadata": {},
   "outputs": [],
   "source": []
  },
  {
   "cell_type": "markdown",
   "metadata": {},
   "source": [
    "5.Write a Python program that models different animals and their sounds. Design a base class called\n",
    " Animal with a method make_sound(). Create subclasses like Dog and Cat that override the\n",
    " make_sound()`method to produce appropriate sounds:\n",
    " Tasks:\n",
    " 1. Define the `Animal class with a method `make_sound()\".\n",
    " 2. Create subclasses `Dog`and 'Cat`that override the `make_sound()`method.\n",
    " 3. Implement the sound generation logic for each subclass.\n",
    " 4. Test the program by creating instances of 'Dog* and Cat and calling the 'make_sound()\" method."
   ]
  },
  {
   "cell_type": "code",
   "execution_count": 14,
   "metadata": {},
   "outputs": [
    {
     "name": "stdout",
     "output_type": "stream",
     "text": [
      "Meow Meow\n",
      "Bow bow!\n"
     ]
    }
   ],
   "source": [
    "class Animal:\n",
    "\n",
    "    def make_sound():\n",
    "        return 'subclass implemeting this method'\n",
    "    \n",
    "class Dog(Animal):\n",
    "    def make_sound(self):\n",
    "        return \"Bow bow!\"\n",
    "\n",
    "class Cat(Animal):\n",
    "    def make_sound(self):\n",
    "        return \"Meow Meow\"\n",
    "\n",
    "cat = Cat()\n",
    "dog = Dog()\n",
    "print(cat.make_sound())\n",
    "print(dog.make_sound())"
   ]
  },
  {
   "cell_type": "markdown",
   "metadata": {},
   "source": [
    "6.Write a code for Restaurant Management System Using OOPS:\n",
    "Implement methods to add a new menu item, update menu item information, and remove a menu item\n",
    "from the menu\n",
    "Create a Menultem class that has attributes such as name, description, price, and category.\n",
    "Use encapsulation to hide the menu item's unique identification number.\n",
    "Inherit from the Menu\n",
    "lass to\n",
    "specific attributes and methods\n",
    "te a Fooditem class and a Beverageltem class, each with their own\n"
   ]
  },
  {
   "cell_type": "code",
   "execution_count": null,
   "metadata": {},
   "outputs": [],
   "source": [
    "class Menuitem:\n",
    "    def __init__(self,name,description, price,category):\n",
    "        self._name = name \n",
    "        self._description = description\n",
    "        self._price = price\n",
    "        self._category = category\n",
    "        self.__id = None\n",
    "\n",
    "class Beverageitems(Menuitem):\n",
    "    \n",
    "    def __init__(self, name, description, price, category, is_alcoholic):\n",
    "        super().__init__(name, description, price, category)\n",
    "        self.is_alcoholic = is_alcoholic\n",
    "\n",
    "class FoodItem(Menuitem):\n",
    "    def __init__(self, name, description, price, category, cuisine_type):\n",
    "        super().__init__(name, description, price, category)\n",
    "        self.cuisine_type = cuisine_type\n",
    "\n",
    "\n",
    "\n",
    "    "
   ]
  },
  {
   "cell_type": "markdown",
   "metadata": {},
   "source": [
    "7.Write a code for Hotel Management System using OOPS\n",
    "Create a Room class that has attributes such as room number, room type, rate, and availability (private).\n",
    "Implement methods to book a room, check in a guest, and check out a guest.\n",
    "Use encapsulation to hide the room's unique identification number.\n",
    "Inherit from the Room class to create a SuiteRoom class and a StandardRoom class, each with their own\n",
    "specific attributes and methods.\n"
   ]
  },
  {
   "cell_type": "code",
   "execution_count": 7,
   "metadata": {},
   "outputs": [
    {
     "name": "stdout",
     "output_type": "stream",
     "text": [
      "Room booked for Rohan on 27 July\n",
      "Room booked for Sohan on 28 July\n",
      "Welcome Rohan\n",
      "Thank you for visiting again Mr. Rohan\n",
      "Room Number: 400, Type: Luxury, Rate: $30000, Available Rooms: 10\n",
      "Room Number: 401, Type: Standard, Rate: $10000, Available Rooms: 9\n"
     ]
    }
   ],
   "source": [
    "class Room:\n",
    "    def __init__(self, room_number, room_type, room_rate):\n",
    "        self.room_number = room_number\n",
    "        self.room_type = room_type\n",
    "        self.room_rate = room_rate\n",
    "        self.__availability = 10  \n",
    "        self._customer_ids = []  \n",
    "\n",
    "    def book_room(self, id, customer_name, date):\n",
    "        if self.__availability > 0:\n",
    "            self._customer_ids.append(id)\n",
    "            self.__availability -= 1  \n",
    "            print(f'Room booked for {customer_name} on {date}')\n",
    "        else:\n",
    "            print(\"No rooms available.\")\n",
    "\n",
    "    def check_in(self, customer_name, customer_id):\n",
    "        if customer_id in self._customer_ids:\n",
    "            print(f'Welcome {customer_name}')\n",
    "        else:\n",
    "            print(f'No booking found for {customer_name}.')\n",
    "\n",
    "    def check_out(self, customer_name, customer_id):\n",
    "        if customer_id in self._customer_ids:\n",
    "            self._customer_ids.remove(customer_id)\n",
    "            self.__availability += 1 \n",
    "            print(f'Thank you for visiting again Mr. {customer_name}')\n",
    "        else:\n",
    "            print(f'No booking found for {customer_name}.')\n",
    "\n",
    "    def __str__(self):\n",
    "        status = f\"Available Rooms: {self.__availability}\"\n",
    "        return f\"Room Number: {self.room_number}, Type: {self.room_type}, Rate: ${self.room_rate}, {status}\"\n",
    "\n",
    "class SuiteRoom(Room):\n",
    "    def __init__(self, room_number, room_rate, has_jacuzzi):\n",
    "        super().__init__(room_number, \"Suite\", room_rate)\n",
    "        self.has_jacuzzi = has_jacuzzi\n",
    "\n",
    "class StandardRoom(Room):\n",
    "    def __init__(self, room_number, room_rate, bed_type):\n",
    "        super().__init__(room_number, \"Standard\", room_rate)\n",
    "        self.bed_type = bed_type\n",
    "\n",
    "\n",
    "\n",
    "# Create a Room and book it\n",
    "r1 = Room('400', 'Luxury', 30000)\n",
    "r1.book_room(1, 'Rohan', '27 July')\n",
    "\n",
    "# Create a StandardRoom and book it\n",
    "s1 = StandardRoom('401', 10000, 'King')\n",
    "s1.book_room(2, 'Sohan', '28 July')\n",
    "\n",
    "# Check in and check out\n",
    "r1.check_in('Rohan', 1)\n",
    "r1.check_out('Rohan', 1)\n",
    "\n",
    "# Display room information\n",
    "print(r1)\n",
    "print(s1)\n"
   ]
  },
  {
   "cell_type": "markdown",
   "metadata": {},
   "source": [
    "8.Write a code for Fitness Club Management System using OOPS:\n",
    "Create a Member class that has attributes such as name, age, membership type, and membership status\n",
    "(private).\n",
    "Implement methods to register a new member, renew a membership, and cancel a membership\n",
    "Use encapsulation to hide the member's unique identification number.\n",
    "Inherit from the Member class to create a FamilyMember class and an IndividualMember class, each with\n",
    "their own specific attributes and methods.\n"
   ]
  },
  {
   "cell_type": "code",
   "execution_count": null,
   "metadata": {},
   "outputs": [],
   "source": []
  },
  {
   "cell_type": "markdown",
   "metadata": {},
   "source": [
    "9.Write a code for Even\n",
    "ag gement System using OOPS:\n",
    "Create an Event class that has attributes such as name, date, time, location, and list of attendees (private).\n",
    "Implement methods to create a new event, add or remove attendees, and get the total number of\n",
    "attendees.\n",
    "Use encapsulation to\n",
    "the event's unique identification number.\n",
    "Inherit from the Event class to\n",
    "specific attributes and methods\n",
    "eate a\n",
    "rivateEvent class and a PublicEvent class, each with their own\n",
    "TO Write a code for Airline\n",
    "ervation System using OOPS\n"
   ]
  },
  {
   "cell_type": "code",
   "execution_count": null,
   "metadata": {},
   "outputs": [],
   "source": []
  },
  {
   "cell_type": "markdown",
   "metadata": {},
   "source": [
    "10.Write a code for Airline Reservation System using OOPS:\n",
    "Create a Flight class that has attributes such as flight number, departure and arrival airports, departure and\n",
    "arrival times, and available seats (private).\n",
    "Implement methods to book a seat, cancel a reservation, and get the remaining available seats\n",
    "Use encapsulation to hide the flight's unique identification number.\n",
    "◦ Inherit from the Flight class to create a DomesticFlight class and an Internationalflight class, each with their\n",
    "own specific attributes and methods.\n"
   ]
  },
  {
   "cell_type": "code",
   "execution_count": 27,
   "metadata": {},
   "outputs": [
    {
     "name": "stdout",
     "output_type": "stream",
     "text": [
      "Seats are avaible\n",
      "Seats book for rohan chatse flight id number is 199\n",
      "9\n",
      "Seats cancle for rohan chatse flight id number is 199\n",
      "10\n",
      "Seats are avaible\n",
      " class 1 Seats book for rohan chatse flight id number is 24 for US\n",
      "Seats are avaible\n",
      " class 1 Seats book for Sohan chatse flight id number is 23 for Pune\n"
     ]
    }
   ],
   "source": [
    "class Flight:\n",
    "    def __init__(self,flight_number, departed, arrival):\n",
    "        self.flight_number = flight_number\n",
    "        self.departed = departed \n",
    "        self.arrival = arrival\n",
    "        self._flightId = 199 \n",
    "        self._seats = 10\n",
    "    \n",
    "    def book_seats(self,name,firstname ):\n",
    "        if self._seats>0:\n",
    "            print('Seats are avaible')\n",
    "            print(f'Seats book for {name} {firstname} flight id number is {self._flightId}')\n",
    "            self._seats -=1\n",
    "            print(self._seats)\n",
    "    \n",
    "    def cancle_seats(self,name,firstname):\n",
    "            # print('Seats are avaible')\n",
    "            print(f'Seats cancle for {name} {firstname} flight id number is {self._flightId}')\n",
    "            self._seats +=1\n",
    "            print(self._seats)\n",
    "\n",
    "\n",
    "class Domeestic(Flight):\n",
    "    def __init__(self, city_name):\n",
    "        self._flightId =23\n",
    "        self._seats = 10\n",
    "        self.city_name = city_name\n",
    "\n",
    "\n",
    "    \n",
    "    def book_seats(self,name,firstname, pclass):\n",
    "        if self._seats>0:\n",
    "            print('Seats are avaible')\n",
    "            print(f' class {pclass} Seats book for {name} {firstname} flight id number is {self._flightId} for {self.city_name}')\n",
    "            self._seats -=1\n",
    "\n",
    "class International(Flight):\n",
    "    def __init__(self):\n",
    "        self._flightId =24\n",
    "        self._seats = 10\n",
    "        self.country_name = 'US'\n",
    "\n",
    "\n",
    "    \n",
    "    def book_seats(self,name,firstname, pclass):\n",
    "        if self._seats>0:\n",
    "            print('Seats are avaible')\n",
    "            print(f' class {pclass} Seats book for {name} {firstname} flight id number is {self._flightId} for {self.country_name}')\n",
    "            self._seats -=1\n",
    "            # print(self._seats)\n",
    "\n",
    "\n",
    "\n",
    "     \n",
    "\n",
    "p1 = Flight(1,1.30,4)\n",
    "\n",
    "p1.book_seats('rohan','chatse')\n",
    "p1.cancle_seats('rohan','chatse')\n",
    "\n",
    "p2 = International()\n",
    "p2.book_seats('rohan','chatse',1)\n",
    "\n",
    "p3 = Domeestic('Pune')\n",
    "p3.book_seats('Sohan','chatse',1)"
   ]
  },
  {
   "cell_type": "markdown",
   "metadata": {},
   "source": [
    "11. Define a Python module named constants.py containing constants like pi and the speed of light.\n"
   ]
  },
  {
   "cell_type": "code",
   "execution_count": null,
   "metadata": {},
   "outputs": [
    {
     "name": "stdout",
     "output_type": "stream",
     "text": [
      "The speed of light is 299792458\n",
      "The value of pi is 3.14159\n"
     ]
    }
   ],
   "source": [
    "# code in constants.py file \n",
    "\n",
    "''' PI = 3.14159\n",
    "SPEED_OF_LIGHT = 299792458  # meters per second\n",
    "'''\n",
    "\n",
    "from constants import SPEED_OF_LIGHT, PI\n",
    "\n",
    "print('The speed of light is',SPEED_OF_LIGHT)\n",
    "print('The value of pi is', PI)\n"
   ]
  },
  {
   "cell_type": "markdown",
   "metadata": {},
   "source": [
    "12. Write a Python module named calculator.py containing functions for addition, subtraction,\n",
    "multiplication, and division.\n"
   ]
  },
  {
   "cell_type": "code",
   "execution_count": null,
   "metadata": {},
   "outputs": [
    {
     "name": "stdout",
     "output_type": "stream",
     "text": [
      "11\n",
      "-1\n",
      "30\n",
      "0.8333333333333334\n"
     ]
    }
   ],
   "source": [
    "# Code in calculator.py \n",
    "\n",
    "\n",
    "'''# Addition \n",
    "def add(a,b):\n",
    "    return a+b \n",
    "\n",
    "# Subtraction \n",
    "def subs(a,b):\n",
    "    return a-b \n",
    "\n",
    "\n",
    "# Multiplication \n",
    "def mult(a,b):\n",
    "    return a*b \n",
    "\n",
    "# Division \n",
    "def div(a,b):\n",
    "    return a/b \n",
    "\n",
    "'''\n",
    "\n",
    "\n",
    "# Use cases \n",
    "\n",
    "from calculator import  add, subs, mult, div\n",
    "\n",
    "print(add(5,6))\n",
    "print(subs(5,6))\n",
    "print(mult(5,6))\n",
    "print(div(5,6))"
   ]
  },
  {
   "cell_type": "markdown",
   "metadata": {},
   "source": [
    "13.Implement a Python package structure for a project named ecommerce, containing modules for product\n",
    "management and order processing.\n"
   ]
  },
  {
   "cell_type": "code",
   "execution_count": null,
   "metadata": {},
   "outputs": [
    {
     "name": "stdout",
     "output_type": "stream",
     "text": [
      "Adding new products with Name: Samsung f23 5G and price: 20000\n",
      "Creating order for customer ID: 1 with products: samsung f23 5G\n"
     ]
    }
   ],
   "source": [
    "\n",
    "from ecommerce import add_product, delete_product, update_inventory, create_order, cancel_order\n",
    "\n",
    "add_product('Samsung f23 5G', 20000)\n",
    "create_order(1,'samsung f23 5G')\n"
   ]
  },
  {
   "cell_type": "markdown",
   "metadata": {},
   "source": [
    "14.Implement a Python module named string_ utils.py containing functions for string manipulation, such as\n",
    "reversing and capitalizing strings.\n"
   ]
  },
  {
   "cell_type": "code",
   "execution_count": null,
   "metadata": {},
   "outputs": [
    {
     "name": "stdout",
     "output_type": "stream",
     "text": [
      "nahoR\n",
      "Rohan\n"
     ]
    }
   ],
   "source": [
    "# code in string_utils.py file \n",
    "\n",
    "'''\n",
    "\n",
    "def reverse_string(string):\n",
    "    return string[::-1]\n",
    "\n",
    "\n",
    "def capitilize(string):\n",
    "    return string.capitalize()\n",
    "\n",
    "\n",
    "'''\n",
    "\n",
    "\n",
    "import string_utils \n",
    "\n",
    "print(string_utils.reverse_string('Rohan'))\n",
    "print(string_utils.capitilize('rohan'))"
   ]
  },
  {
   "cell_type": "markdown",
   "metadata": {},
   "source": [
    "15. Write a Python module named file__operations.py with functions for reading, writing, and appending\n",
    "data to a file.\n"
   ]
  },
  {
   "cell_type": "code",
   "execution_count": null,
   "metadata": {},
   "outputs": [
    {
     "name": "stdout",
     "output_type": "stream",
     "text": [
      "Data written successfully to file.\n",
      "<_io.TextIOWrapper name='example.txt' mode='r' encoding='UTF-8'>\n",
      "None\n",
      "Data appended successfully to file.\n"
     ]
    }
   ],
   "source": [
    "# code in file_operations.py \n",
    "\n",
    "'''\n",
    "\n",
    "def read_file(filename):\n",
    "\n",
    "    with open(filename) as file:\n",
    "\n",
    "        file = open(filename,\"r\")\n",
    "        data = file.read()\n",
    "        print(data)\n",
    "        \n",
    "\n",
    "\n",
    "def writefile(filename, data):\n",
    "\n",
    "    with open(filename, 'w') as file:\n",
    "        file.write(data)\n",
    "        \n",
    "\n",
    "    print(\"Data written successfully to file.\")\n",
    "\n",
    "\n",
    "\n",
    "def appenddata(filename, data):\n",
    "\n",
    "    with open(filename, 'a') as file:\n",
    "        file.write(data)\n",
    "\n",
    "    print(\"Data appended successfully to file.\")\n",
    "'''\n",
    "\n",
    "\n",
    "\n",
    "\n",
    "import file_operations as fo \n",
    "\n",
    "fo.writefile('example.txt', 'Writing in file ')\n",
    "\n",
    "print(fo.read_file('example.txt'))\n",
    "\n",
    "fo.appenddata('example.txt', 'Hello i am rohan')"
   ]
  },
  {
   "cell_type": "markdown",
   "metadata": {},
   "source": [
    "16. Write a Python program to create a text file named \"employees.txt\" and write the details of employees,\n",
    "including their name, age, and salary, into the file.\n"
   ]
  },
  {
   "cell_type": "code",
   "execution_count": null,
   "metadata": {},
   "outputs": [
    {
     "name": "stdout",
     "output_type": "stream",
     "text": [
      "name= 'prashik'\n",
      "    age = 22\n",
      "    salary  = 100000\n",
      "\n"
     ]
    }
   ],
   "source": [
    "with open('employees.txt','w') as file:\n",
    "    data = '''name= 'prashik'\n",
    "    age = 22\n",
    "    salary  = 100000\n",
    "'''\n",
    "    file.write(data)\n",
    "\n",
    "with open('employees.txt') as file:\n",
    "    print(file.read())\n",
    "\n"
   ]
  },
  {
   "cell_type": "markdown",
   "metadata": {},
   "source": [
    "17. Develop a Python script that opens an existing text file named \"inventory.txt\" in read mode and displays\n",
    "the contents of the file line by line.\n"
   ]
  },
  {
   "cell_type": "code",
   "execution_count": null,
   "metadata": {},
   "outputs": [
    {
     "name": "stdout",
     "output_type": "stream",
     "text": [
      "1,Laptop,10,799.99\n",
      "2,Mouse,50,19.99\n",
      "3,Keyboard,30,49.99\n",
      "4,Monitor,20,249.99\n",
      "5,Headphones,40,99.99\n"
     ]
    }
   ],
   "source": [
    "with open('inventory.txt','r') as file:\n",
    "    data = file.read()\n",
    "    print(data)"
   ]
  },
  {
   "cell_type": "markdown",
   "metadata": {},
   "source": [
    "18.Create a Python script that reads a text file named \"expenses.txt\" and calculates the total amount spent\n",
    "on various expenses listed in the file.\n"
   ]
  },
  {
   "cell_type": "code",
   "execution_count": null,
   "metadata": {},
   "outputs": [
    {
     "name": "stdout",
     "output_type": "stream",
     "text": [
      "The total amount spend on various expenses is 290\n"
     ]
    }
   ],
   "source": [
    "# Data in expense.txt file \n",
    "\n",
    "'''Groceries,100,\n",
    "Utilities,50,\n",
    "Dinner with friends,75,\n",
    "Gasoline,40,\n",
    "Movie tickets,25,\n",
    "'''\n",
    "\n",
    "\n",
    "\n",
    "with open('expence.txt','r') as file:\n",
    "    data = file.read()\n",
    "    # print(data)\n",
    "    \n",
    "    # print(data)\n",
    "    line= data.split(',')\n",
    "    # print(line)\n",
    "    total = 0 \n",
    "    for i in range(1,len(line)):\n",
    "        if i%2!=0:\n",
    "            total+=int(line[i])\n",
    "        \n",
    "    print('The total amount spend on various expenses is',total) \n"
   ]
  },
  {
   "cell_type": "markdown",
   "metadata": {},
   "source": [
    "19. Create a Python program that reads a text file named \"paragraph.txt\" and counts the occurrences of\n",
    "each word in the paragraph, displaying the results in alphabetical order.\n"
   ]
  },
  {
   "cell_type": "code",
   "execution_count": null,
   "metadata": {},
   "outputs": [
    {
     "name": "stdout",
     "output_type": "stream",
     "text": [
      "Total occurance of each words in file {'In': 1, 'the': 3, 'realm': 1, 'of': 4, 'language,': 1, 'repetition': 1, 'holds': 1, 'a': 2, 'unique': 1, 'power.': 1, 'It': 1, 'amplifies': 1, 'meaning,': 1, 'emphasizes': 1, 'ideas,': 1, 'and': 5, 'reinforces': 1, 'concepts.': 1, 'Through': 1, 'deliberate': 1, 'repetition,': 1, 'messages': 1, 'gain': 1, 'clarity': 1, 'impact,': 1, 'resonating': 1, 'deeply': 1, 'with': 2, 'audiences.': 1, 'Whether': 1, 'in': 1, 'literature,': 1, 'speeches,': 1, 'or': 1, 'everyday': 1, 'conversations,': 1, 'repeated': 1, 'words': 1, 'weave': 1, 'tapestry': 1, 'significance,': 1, 'guiding': 1, 'understanding': 1, 'evoking': 1, 'emotions.': 1, 'This': 1, 'linguistic': 1, 'device,': 1, 'its': 1, 'rhythmic': 1, 'cadence': 1, 'symbolic': 1, 'weight,': 1, 'shapes': 2, 'narratives': 1, 'our': 1, 'perception': 1, 'world,': 1, 'underscoring': 1, 'essence': 1, 'communication': 1, 'itself.': 1}\n",
      "sorted words in alphabetical order ['In', 'It', 'This', 'Through', 'Whether', 'a', 'amplifies', 'and', 'audiences.', 'cadence', 'clarity', 'communication', 'concepts.', 'conversations,', 'deeply', 'deliberate', 'device,', 'emotions.', 'emphasizes', 'essence', 'everyday', 'evoking', 'gain', 'guiding', 'holds', 'ideas,', 'impact,', 'in', 'its', 'itself.', 'language,', 'linguistic', 'literature,', 'meaning,', 'messages', 'narratives', 'of', 'or', 'our', 'perception', 'power.', 'realm', 'reinforces', 'repeated', 'repetition', 'repetition,', 'resonating', 'rhythmic', 'shapes', 'significance,', 'speeches,', 'symbolic', 'tapestry', 'the', 'underscoring', 'understanding', 'unique', 'weave', 'weight,', 'with', 'words', 'world,']\n"
     ]
    }
   ],
   "source": [
    "with open('paragraph.txt','r') as file:\n",
    "    data = file.read()\n",
    "    # print(data)\n",
    "    line = data.split()\n",
    "    # print(line)\n",
    "    ans = {}\n",
    "    for i in line:\n",
    "        if i in ans:\n",
    "            pass \n",
    "        ans[i] = line.count(i)\n",
    "    print('Total occurance of each words in file',ans)\n",
    "    print('sorted words in alphabetical order',sorted(ans))"
   ]
  },
  {
   "cell_type": "markdown",
   "metadata": {},
   "source": [
    "20. What do you mean by Measure of Central Tendency and Measures of Dispersion .How it can be\n",
    "calculated.\n"
   ]
  },
  {
   "cell_type": "code",
   "execution_count": null,
   "metadata": {},
   "outputs": [],
   "source": [
    "'''\n",
    "\n",
    "Measures of Central Tendency and Measures of Dispersion are statistical concepts used to \n",
    "describe the characteristics of a data set. \n",
    "They provide insights into the distribution and spread of the data.\n",
    "\n",
    "'''\n",
    "\n",
    "# Measures of Central Tendency\n",
    "'''\n",
    "Measures of central tendency describe the center point or typical value of a data set. \n",
    "They provide a summary statistic that represents the central value of the data.\n",
    "\n",
    "There are 3 type of central tendency (Mean, Median, Mode)\n",
    "\n",
    "1.Mean\n",
    "\n",
    "Mean it is a arthematic average of all data points \n",
    "\n",
    "mean =  x1+x2+x3+x4....xn/len([x1,x2,x3,x4....xn])\n",
    "\n",
    "2.Median \n",
    "\n",
    "Median is the middle value when data is set to order from smallest to largest\n",
    "\n",
    "How to calculate median\n",
    "i) Arrange data into increasing order \n",
    "ii) If n is odd then median = n+1/2\n",
    "    If n is even then median can be calculated using taking average of middle two elements\n",
    "    (n/2+((n/2)+1))/2\n",
    "\n",
    "3.Mode \n",
    "\n",
    "The most frequent value in a data set is called as Mode.\n",
    "There may be more than 1 mode in a single dataset\n",
    "\n",
    "'''\n",
    "\n",
    "#Measure of Dispersion \n",
    "\n",
    "'''Measures of dispersion describe the spread or variability of the data set. \n",
    "They indicate how much the values in the data set deviate from the central tendency.\n",
    "Ther are more ways to calculate Dispersion'''\n",
    "\n",
    "# Range \n",
    "\n",
    "'''The diffrence between maximum and minimum value in a dataset'''\n",
    "\n",
    "# variance \n",
    "''' The average of the squared differences between each data point and the mean. \n",
    "It measures the degree of spread in the data set.'''\n",
    "\n",
    "# Standard Deviation\n",
    "'''The squareroot of variance is called as standard deviation..\n",
    "It provides a measure of spread in the same units as the data points.'''\n",
    "\n",
    "# Interquartile Range (IQR)\n",
    "''' \n",
    "It is the difference between the third quartile (Q3) and the first quartile (Q1).\n",
    "'''\n"
   ]
  },
  {
   "cell_type": "markdown",
   "metadata": {},
   "source": [
    "21. What do you mean by skewness.Explain its types.Use graph to show.\n"
   ]
  },
  {
   "cell_type": "code",
   "execution_count": 8,
   "metadata": {},
   "outputs": [
    {
     "data": {
      "image/png": "[encoded data removed]",
      "text/plain": [
       "<Figure size 1500x500 with 3 Axes>"
      ]
     },
     "metadata": {},
     "output_type": "display_data"
    }
   ],
   "source": [
    "'''\n",
    "Skewness is a statistical measure that describes the asymmetry of a probability distribution around the mean. \n",
    "It indicates whether the data is skewed to the left or right of the mean. \n",
    "Skewness helps to understand the shape of the data distribution and the degree to which it deviates from a normal distribution.'''\n",
    "\n",
    "# Types of skewness \n",
    "\n",
    "# Right skew\n",
    "'''The tail is longer on the right side of distribution\n",
    "e.g Income distributions where most people earn a moderate amount,\n",
    "but a few people earn extremely high incomes'''\n",
    "\n",
    "# Left Skew\n",
    "'''The tail on the left side of distribution is longer than right side is called as left skew'''\n",
    "\n",
    "# No skew or zero skew\n",
    "\n",
    "'''When the distribution of data is symmetric means its skewed equally on both side or called as normal distribution'''\n",
    "\n",
    "# Graph \n",
    "\n",
    "import numpy as np\n",
    "import matplotlib.pyplot as plt\n",
    "import seaborn as sns\n",
    "\n",
    "\n",
    "fig, axes = plt.subplots(1, 3, figsize=(15, 5))\n",
    "axes = axes.flatten()\n",
    "\n",
    "data_positive_skew = np.random.exponential(scale=1, size=1000)\n",
    "data_negative_skew = -np.random.exponential(scale=1, size=1000)\n",
    "data_zero_skew = np.random.normal(loc=0, scale=1, size=1000)\n",
    "\n",
    "sns.histplot(data_positive_skew, kde=True, ax=axes[0], color='skyblue')\n",
    "axes[0].set_title('Positive Skewness')\n",
    "axes[0].set_xlabel('Value')\n",
    "axes[0].set_ylabel('Frequency')\n",
    "\n",
    "sns.histplot(data_negative_skew, kde=True, ax=axes[1], color='salmon')\n",
    "axes[1].set_title('Negative Skewness')\n",
    "axes[1].set_xlabel('Value')\n",
    "axes[1].set_ylabel('Frequency')\n",
    "\n",
    "sns.histplot(data_zero_skew, kde=True, ax=axes[2], color='lightgreen')\n",
    "axes[2].set_title('Zero Skewness')\n",
    "axes[2].set_xlabel('Value')\n",
    "axes[2].set_ylabel('Frequency')\n",
    "\n",
    "plt.tight_layout()\n",
    "plt.show()\n"
   ]
  },
  {
   "cell_type": "markdown",
   "metadata": {},
   "source": [
    "22. Explain PROBABILITY MASS FUNCTION (PMF) and PROBABILITY DENSITY FUNCTION (PDF). and what is the\n"
   ]
  },
  {
   "cell_type": "code",
   "execution_count": 9,
   "metadata": {},
   "outputs": [
    {
     "name": "stderr",
     "output_type": "stream",
     "text": [
      "/tmp/ipykernel_2975/2497045213.py:27: MatplotlibDeprecationWarning: The 'use_line_collection' parameter of stem() was deprecated in Matplotlib 3.6 and will be removed two minor releases later. If any parameter follows 'use_line_collection', they should be passed as keyword, not positionally.\n",
      "  plt.stem(values, probabilities, basefmt=\" \", use_line_collection=True)\n"
     ]
    },
    {
     "data": {
      "image/png": "[encoded data removed]",
      "text/plain": [
       "<Figure size 640x480 with 1 Axes>"
      ]
     },
     "metadata": {},
     "output_type": "display_data"
    }
   ],
   "source": [
    "'''Probability Mass Function (PMF) and Probability Density Function (PDF) are fundamental concepts\n",
    " in probability  and statistics used to describe the distribution of random variables. \n",
    "They serve to provide probabilities associated with outcomes of random variables.'''\n",
    "\n",
    "\n",
    "# PMF(probability mass function)\n",
    "\n",
    "'''The Probability Mass Function (PMF) is used for discrete random variables. \n",
    "It provides the probability that a discrete random variable is exactly equal to a specific value.'''\n",
    "\n",
    "# Probability Density Function (PDF)\n",
    "'''\n",
    "The Probability Density Function is used for continuous random variables. \n",
    "It describes the likelihood of a random variable taking on a specific value, \n",
    "though in continuous cases, \n",
    "the probability of the variable being exactly at any single point is zero. \n",
    "Instead the PDF is used to compute the probability that the variable falls within a certain interval.\n",
    "\n",
    "'''\n",
    "\n",
    "import matplotlib.pyplot as plt\n",
    "\n",
    "# Discrete data\n",
    "values = [1, 2, 3, 4, 5, 6]\n",
    "probabilities = [1/6] * 6\n",
    "\n",
    "plt.stem(values, probabilities, basefmt=\" \", use_line_collection=True)\n",
    "plt.title(\"Probability Mass Function (PMF) of a Fair Die\")\n",
    "plt.xlabel(\"Outcome\")\n",
    "plt.ylabel(\"Probability\")\n",
    "plt.show()\n"
   ]
  },
  {
   "cell_type": "code",
   "execution_count": 10,
   "metadata": {},
   "outputs": [
    {
     "data": {
      "image/png": "[encoded data removed]",
      "text/plain": [
       "<Figure size 640x480 with 1 Axes>"
      ]
     },
     "metadata": {},
     "output_type": "display_data"
    }
   ],
   "source": [
    "import numpy as np\n",
    "import matplotlib.pyplot as plt\n",
    "from scipy.stats import norm\n",
    "\n",
    "# Continuous data\n",
    "x = np.linspace(-5, 5, 1000)\n",
    "pdf = norm.pdf(x, 0, 1)  # Standard normal distribution\n",
    "\n",
    "plt.plot(x, pdf, label='Probability Density Function (PDF)')\n",
    "plt.title(\"Probability Density Function (PDF) of a Standard Normal Distribution\")\n",
    "plt.xlabel(\"Value\")\n",
    "plt.ylabel(\"Density\")\n",
    "plt.legend()\n",
    "plt.show()\n"
   ]
  },
  {
   "cell_type": "markdown",
   "metadata": {},
   "source": [
    "23. What is correlation. Explain its type in details.what are the methods of determining correlation\n"
   ]
  },
  {
   "cell_type": "code",
   "execution_count": null,
   "metadata": {},
   "outputs": [],
   "source": [
    "'''In statistic correlation is a methods to determining the relationship between two variable \n",
    "It measures how much changes will occures if value of one variable changes. \n",
    "'''\n",
    "# Types of correlation \n",
    "\n",
    "'''There are three types of correlation present\n",
    "\n",
    "1.Positive correlation\n",
    "In positive correlation if value of one variable increases then value of other variable is also changes\n",
    "\n",
    "2.Negative correlation\n",
    "In negative correlationif value of one variable increases then value of other variable will also changes\n",
    "\n",
    "\n",
    "3.No correlation\n",
    "There is no relationship between variables\n",
    "\n",
    "'''\n",
    "\n",
    "# Methods of determining correlations \n",
    "\n",
    "# 1.Pearson correlation coefficient \n",
    "'''\n",
    "Measures the linear relationship between two continuous variable \n",
    "It range from -1 to 1 \n",
    "-1 means negative correlation\n",
    "1 means positive correlation\n",
    "0 means no correlations\n",
    "\n",
    "'''\n",
    "# 2.Spearman's Rank correlation \n",
    "'''\n",
    "This measures the strength and direction of correlation \n",
    "It is useful for ordinal data or non-linear relationships\n",
    "\n",
    "'''\n"
   ]
  },
  {
   "cell_type": "code",
   "execution_count": null,
   "metadata": {},
   "outputs": [],
   "source": []
  },
  {
   "cell_type": "markdown",
   "metadata": {},
   "source": [
    "24.Calculate coefficient of correlation between the marks obtained by 10 students in Accountancy and\n",
    "statistics:\n",
    "\n",
    "--------------------------------------------\n",
    "Student     1   2  3  4  5  6  7  8  9  10 | \n",
    "--------------------------------------------                                           |\n",
    "Accountancy 45  70 65 30 90 40 50 75 85 60 |\n",
    "Statistics 35  90  70 40 95 40 60 80 80 50 |\n",
    "--------------------------------------------\n",
    "\n",
    "use karl's pearsons coefficient of correlation method to find it  "
   ]
  },
  {
   "cell_type": "code",
   "execution_count": 15,
   "metadata": {},
   "outputs": [
    {
     "name": "stdout",
     "output_type": "stream",
     "text": [
      "61.0\n",
      "64.0\n",
      "[-16.0, 9.0, 4.0, -31.0, 29.0, -21.0, -11.0, 14.0, 24.0, -1.0]\n",
      "[-29.0, 26.0, 6.0, -24.0, 31.0, -24.0, -4.0, 16.0, 16.0, -14.0]\n",
      "3535.0\n",
      "3490.0\n",
      "4390.0\n",
      "0.9031178882610624\n"
     ]
    }
   ],
   "source": [
    "import math \n",
    "\n",
    "\n",
    "x = [45,70,65,30,90,40,50,75,85,60]\n",
    "y = [35,90,70,40,95,40,60,80,80,50]\n",
    "\n",
    "\n",
    "# Calculate means\n",
    "xbar = sum(x) / len(x)\n",
    "print(xbar)\n",
    "\n",
    "ybar = sum(y) / len(y)\n",
    "print(ybar)\n",
    "\n",
    "# Calculate deviations from the mean\n",
    "deviationofx = [i - xbar for i in x]\n",
    "deviationofy = [i - ybar for i in y]\n",
    "\n",
    "print(deviationofx)\n",
    "print(deviationofy)\n",
    "\n",
    "# Calculate the product of deviations\n",
    "product_of_deviation = [deviationofx[i] * deviationofy[i] for i in range(len(deviationofx))]\n",
    "\n",
    "# Sum of the product of deviations\n",
    "sum_of_product_of_deviation = sum(product_of_deviation)\n",
    "print(sum_of_product_of_deviation)\n",
    "\n",
    "# Calculate the sum of squares of deviations\n",
    "sum_of_squares_of_x_values = [deviationofx[i] ** 2 for i in range(len(deviationofx))]\n",
    "sum_of_squares_of_y_values = [deviationofy[i] ** 2 for i in range(len(deviationofy))]\n",
    "\n",
    "# Sum of the squared deviations\n",
    "sum_of_squares_of_x_values_total = sum(sum_of_squares_of_x_values)\n",
    "sum_of_squares_of_y_values_total = sum(sum_of_squares_of_y_values)\n",
    "\n",
    "print(sum_of_squares_of_x_values_total)\n",
    "print(sum_of_squares_of_y_values_total)\n",
    "\n",
    "# Calculate Pearson correlation coefficient\n",
    "r = sum_of_product_of_deviation / math.sqrt(sum_of_squares_of_x_values_total * sum_of_squares_of_y_values_total)\n",
    "print(r)\n"
   ]
  },
  {
   "cell_type": "markdown",
   "metadata": {},
   "source": [
    "25. Discuss the 4 differences between correlation and regression.\n"
   ]
  },
  {
   "cell_type": "code",
   "execution_count": null,
   "metadata": {},
   "outputs": [],
   "source": [
    "'''correlation and regression are both statistical methods used to ananyze the relationship between variables\n",
    "But both used for diffrence purpose and intrepretation'''\n",
    "\n",
    "# correlation \n",
    "'''1.Correlation measure strength and direction of the linear relationship between two variables\n",
    "2.The correlation coefficient between x and y is the same as between y and x \n",
    "3.High correlation does not mean that changes in one variable affect changes in other\n",
    "4.Results in correlation coeffcient ranges from -1 to 1 indicating strength and direction of relationship\n",
    "'''\n",
    "# Regression \n",
    "'''\n",
    "1.Regression analyzes the relationship between a dependent and one or more independent variable and predict theeffect of \n",
    "changes in independent variable.\n",
    "\n",
    "2.Regression is asymmetric, means the relationship modeled on which variable is considred the dependent variable\n",
    "reversing this roles changes the regression equations.\n",
    "\n",
    "3.Regression suggest a causal relationship if the model is correctly specified and confounding factors are controlled.\n",
    "\n",
    "4.This provides an equation that describes the relationship between the variable \n",
    "Y = a + bX \n",
    "where,\n",
    "a is intercept \n",
    "b is slope\n",
    "'''"
   ]
  },
  {
   "cell_type": "markdown",
   "metadata": {},
   "source": [
    "26. Find the most likely price at Delhi corresponding to the price of Rs. 70 at Agra from the following data:\n",
    "Coefficient of correlation between the prices of the two places +0.8.\n"
   ]
  },
  {
   "cell_type": "markdown",
   "metadata": {},
   "source": []
  },
  {
   "cell_type": "markdown",
   "metadata": {},
   "source": [
    "27. In a partially destroyed laboratory record of an analysis of correlation data, the following results only ar\n",
    "legible: Variance of x = 9, Regression equations are: (i) 8x-10y= -66; (i) 40x- 18y= 214. What are (a) the\n",
    "mean values of x and y, (b) the coefficient of correlation between x and y, (c) the c of y.\n"
   ]
  },
  {
   "cell_type": "code",
   "execution_count": null,
   "metadata": {},
   "outputs": [],
   "source": []
  },
  {
   "cell_type": "markdown",
   "metadata": {},
   "source": [
    "28. What is Normal Distribution? What are the four Assumptions of Normal Distribution? Explain in detail.\n"
   ]
  },
  {
   "cell_type": "code",
   "execution_count": null,
   "metadata": {},
   "outputs": [],
   "source": [
    "'''The data is distributed normally at mean position in normal distribution\n",
    "This forms a bell shaped curve\n",
    "Most of the data is lies around the mean \n",
    "It is also called as gaussian distribution'''\n",
    "\n",
    "# Assumptions \n",
    "# 1.Independence\n",
    "'''The data points are independent to each other, the value of one observation should not influence the \n",
    "the value of another influence'''\n",
    "\n",
    "# 2.Random sampling \n",
    "'''Random sampling helps in obtaining a representative sample from the population,\n",
    "which ensure the generalizability of the results '''\n",
    "\n",
    "# 3.Homoscedastic \n",
    "\n",
    "'''Homoscedastic means that the spread or noise of the data is the same across all levels of an independent variable'''\n",
    "\n",
    "# 4.Normality\n",
    "'''If the data is not normally distributed, the results of test can be misleading\n",
    "This assumption is typically more critical for smaller sample size.\n",
    "'''"
   ]
  },
  {
   "cell_type": "markdown",
   "metadata": {},
   "source": [
    "29.Write all the characteristics or Properties of the Normal Distribution Curve.\n"
   ]
  },
  {
   "cell_type": "code",
   "execution_count": null,
   "metadata": {},
   "outputs": [],
   "source": [
    "\n",
    "\n",
    "# symmetry \n",
    "'''The curve is perfectly symmetrical about its mean means the left half of the curve is same as right'''\n",
    "\n",
    "# mean,median,mode \n",
    "'''In a normal distribution, the mean median,mode are all equal located at the center of distribution'''\n",
    "\n",
    "# Bell-shaped curve \n",
    "'''The curve form a bell shape, it has a single peak at the mean and tapers toward the tails'''\n",
    "\n",
    "# Asymptotic \n",
    "'''The curve gets close and closer to the axis but never touches it'''\n",
    "\n",
    "#Emprical Rule (68-95-99.7)\n",
    "'''68% of the data fails within one standard deviation of mean\n",
    "Approx 95% of the data falls within two standard deviation of the mean\n",
    "99.7% of the data falls within three standard deviation of the mean'''\n",
    "\n",
    "'''The shape and position of the normal distribution curve are defined by its mean and standard deviation'''\n",
    "\n",
    "'''The normal distribution has a skewness of zero means its perfectly zero'''\n",
    "\n"
   ]
  },
  {
   "cell_type": "markdown",
   "metadata": {},
   "source": [
    "30.Which of the following options are correct about Normal Distribution Curve.\n",
    "(a) Within a range 0.6745 of a on both sides the middle 50% of the observations occur i,e. mean *0.67450\n",
    "covers 50% area 25% on each side.\n",
    "(b) Mean *1S.D. (i,e.u t 1a) covers 68.268% area, 34.134 % area lies on either side of the mean.\n",
    "(c) Mean +2S.D. (i,e. p t 20) covers 95.45% area, 47.725% area lies on either side of the mean.\n",
    "(d) Mean +3 S.D. (i,e. y *3a) covers 99.73% area, 49.856% area lies on the either side of the mean.\n",
    "(e) Only 0.27% area is outside the range p t30.\n"
   ]
  },
  {
   "cell_type": "code",
   "execution_count": null,
   "metadata": {},
   "outputs": [],
   "source": []
  },
  {
   "cell_type": "markdown",
   "metadata": {},
   "source": [
    "31. The mean of a distribution is 60 with a standard deviation of 10. Assuming that the distribution is normal\n",
    "what percentage of items be (i) between 60 and 72, (i) between 50 and 60, (l) beyond 72 and (iv) between\n",
    "70 and 80?\n"
   ]
  },
  {
   "cell_type": "code",
   "execution_count": null,
   "metadata": {},
   "outputs": [],
   "source": []
  },
  {
   "cell_type": "markdown",
   "metadata": {},
   "source": [
    "32. 15000 students sat for an examination. The mean marks was 49 and the distribution of marks had a\n",
    "standard deviation of 6. Assuming that the marks were normally distributed what proportion of students\n",
    "scored (a) more than 55 marks, (b) more than 70 marks\n"
   ]
  },
  {
   "cell_type": "code",
   "execution_count": null,
   "metadata": {},
   "outputs": [],
   "source": []
  },
  {
   "cell_type": "markdown",
   "metadata": {},
   "source": [
    "33. If the height of 500 students are normally distributed with mean 65 inch and standard deviation 5 inch.\n",
    "How many students have height :a) greater than 70 inch. b) between 60 and 70 inch.\n"
   ]
  },
  {
   "cell_type": "code",
   "execution_count": null,
   "metadata": {},
   "outputs": [],
   "source": []
  },
  {
   "cell_type": "markdown",
   "metadata": {},
   "source": [
    "34. What is the statistical hypothesis? Explain the errors in hypothesis testing.b)Explain the ample. What\n",
    "are Large Samples & Small Samples?\n"
   ]
  },
  {
   "cell_type": "code",
   "execution_count": null,
   "metadata": {},
   "outputs": [],
   "source": []
  },
  {
   "cell_type": "markdown",
   "metadata": {},
   "source": [
    "35.A random sample of size 25 from a population gives the sample standard derivation to be 9.0. Test the\n",
    "hypothesis that the population standard derivation is 10.5.\n",
    "Hint(Use chi-square distribution)\n"
   ]
  },
  {
   "cell_type": "code",
   "execution_count": null,
   "metadata": {},
   "outputs": [],
   "source": []
  },
  {
   "cell_type": "markdown",
   "metadata": {},
   "source": [
    "37.100 students of a P₩ I01 obtained the following grades in Data Science paper:\n",
    "Grade:[A,B,C,D,E)\n",
    "Total Frequency :[15, 17, 30, 22, 16, 100]\n",
    "Using the x 2 test , examine the hypothesis that the distribution of grades is uniform.\n",
    "9/13"
   ]
  },
  {
   "cell_type": "code",
   "execution_count": null,
   "metadata": {},
   "outputs": [],
   "source": []
  },
  {
   "cell_type": "markdown",
   "metadata": {},
   "source": [
    "38.Anova Test:\n",
    "To study the performance of three detergents and three different water temperatures the following\n",
    "whiteness readings were obtained with specially designed equipment\n"
   ]
  },
  {
   "cell_type": "code",
   "execution_count": null,
   "metadata": {},
   "outputs": [],
   "source": []
  },
  {
   "cell_type": "markdown",
   "metadata": {},
   "source": [
    "39.How would you create a basic Flask route that displays \"Hello, World!\" on the homepage?\n"
   ]
  },
  {
   "cell_type": "code",
   "execution_count": 20,
   "metadata": {},
   "outputs": [],
   "source": [
    "'''To display hello word to homepage using flask we first need to install flask for this we use pip\n",
    "pip install flask \n",
    "'''\n",
    "\n",
    "'''Then we create a file app.py to write code to display hello word \n",
    "In that file write following code ''' \n",
    "\n",
    "# app.py\n",
    "\n",
    "from flask import Flask\n",
    "\n",
    "app = Flask(__name__)\n",
    "\n",
    "@app.route('/')\n",
    "def home():\n",
    "    return 'Hello, World!'\n",
    "\n",
    "if __name__ == '__main__':\n",
    "    app.run(debug=True)\n",
    "\n",
    "\n",
    "'''Then navigate to your directory where the app.py file lies then run the file using python app.py '''\n",
    "\n",
    "'''Open a web browser and go to http://127.0.0.1:5000/.\n",
    "You should see \"Hello, World!\" displayed on the page.'''"
   ]
  },
  {
   "cell_type": "markdown",
   "metadata": {},
   "source": [
    "40.Explain how to set up a Flask application to handle form submissions using POST requests\n"
   ]
  },
  {
   "cell_type": "code",
   "execution_count": null,
   "metadata": {},
   "outputs": [],
   "source": [
    "'''Step 1- Import flask\n",
    "\n",
    "Step 2 -create a file name app.py and write following code in it '''\n",
    "\n",
    "from flask import Flask, render_template, request, redirect, url_for\n",
    "\n",
    "app = Flask(__name__)\n",
    "\n",
    "@app.route('/', methods=['GET', 'POST'])\n",
    "def home():\n",
    "    if request.method == 'POST':\n",
    "        # Retrieve form data\n",
    "        name = request.form.get('name')\n",
    "        email = request.form.get('email')\n",
    "        print(f\"Name: {name}, Email: {email}\")\n",
    "        # Redirect to the success page or another page\n",
    "        return redirect(url_for('success'))\n",
    "    return render_template('index.html')\n",
    "\n",
    "@app.route('/success')\n",
    "def success():\n",
    "    return 'Form submission was successful!'\n",
    "\n",
    "if __name__ == '__main__':\n",
    "    app.run(debug=True)\n",
    "\n",
    "# Step 3 \n",
    "'''Create a template directory in same location as where app.py lies then create a index.html file in it and write\n",
    "following code in it.\n",
    "'''\n",
    "'''\n",
    "<!-- templates/index.html -->\n",
    "\n",
    "<!doctype html>\n",
    "<html lang=\"en\">\n",
    "<head>\n",
    "    <meta charset=\"utf-8\">\n",
    "    <meta name=\"viewport\" content=\"width=device-width, initial-scale=1\">\n",
    "    <title>Form Submission</title>\n",
    "</head>\n",
    "<body>\n",
    "    <h1>Submit Your Information</h1>\n",
    "    <form method=\"POST\">\n",
    "        <label for=\"name\">Name:</label>\n",
    "        <input type=\"text\" id=\"name\" name=\"name\" required>\n",
    "        <br>\n",
    "        <label for=\"email\">Email:</label>\n",
    "        <input type=\"email\" id=\"email\" name=\"email\" required>\n",
    "        <br>\n",
    "        <button type=\"submit\">Submit</button>\n",
    "    </form>\n",
    "</body>\n",
    "</html>\n",
    "'''\n",
    "\n",
    "\n",
    "# Step 4: run the flask app \n",
    "''' use python app.py to run flask app from terminal'''\n",
    "\n",
    "\n",
    "# Step 5: Test the Form Submission\n",
    "'''Open your web browser and go to http://127.0.0.1:5000/.\n",
    "You should see the form you created.\n",
    "Fill in the form and submit it.'''\n",
    "\n"
   ]
  },
  {
   "cell_type": "markdown",
   "metadata": {},
   "source": [
    "41.Write a Flask route that accepts a parameter in the URL and displays it on the page.\n"
   ]
  },
  {
   "cell_type": "code",
   "execution_count": null,
   "metadata": {},
   "outputs": [],
   "source": [
    "from flask import Flask\n",
    "\n",
    "app = Flask(__name__)\n",
    "\n",
    "@app.route('/greet/<name>')\n",
    "def greet(name):\n",
    "    return f'Hello, {name}!'\n",
    "\n",
    "if __name__ == '__main__':\n",
    "    app.run(debug=True)\n",
    "\n",
    "\n",
    "'''This simple route accept the name as an parameter and display it later'''"
   ]
  },
  {
   "cell_type": "markdown",
   "metadata": {},
   "source": [
    "42.How can you implement user authentication in a Flask application?\n"
   ]
  },
  {
   "cell_type": "code",
   "execution_count": null,
   "metadata": {},
   "outputs": [],
   "source": [
    "# app.py code \n",
    "\n",
    "\n",
    "'we have to install some necessary libraries'\n",
    "\n",
    "''' \n",
    "from flask import Flask, render_template, request, redirect, url_for, session, flash\n",
    "from flask_pymongo import PyMongo\n",
    "from werkzeug.security import generate_password_hash, check_password_hash\n",
    "from dotenv import load_dotenv\n",
    "import os\n",
    "\n",
    "# Load environment variables\n",
    "load_dotenv()\n",
    "\n",
    "app = Flask(__name__)\n",
    "app.secret_key = 'your_secret_key'  # Replace with a real secret key\n",
    "\n",
    "# MongoDB configuration\n",
    "app.config['MONGO_URI'] = os.getenv('MONGO_URI')\n",
    "mongo = PyMongo(app)\n",
    "\n",
    "@app.route('/')\n",
    "def index():\n",
    "    if 'username' in session:\n",
    "        return f'Hello {session[\"username\"]}'\n",
    "    return render_template('login.html')\n",
    "\n",
    "@app.route('/signup', methods=['GET', 'POST'])\n",
    "def signup():\n",
    "    if request.method == 'POST':\n",
    "        username = request.form['username']\n",
    "        password = request.form['password']\n",
    "        if mongo.db.users.find_one({'username': username}):\n",
    "            flash('Username already exists')\n",
    "            return redirect(url_for('signup'))\n",
    "        hashed_password = generate_password_hash(password, method='sha256')\n",
    "        mongo.db.users.insert_one({'username': username, 'password': hashed_password})\n",
    "        flash('Signup successful! Please log in.')\n",
    "        return redirect(url_for('login'))\n",
    "    return render_template('signup.html')\n",
    "\n",
    "@app.route('/login', methods=['GET', 'POST'])\n",
    "def login():\n",
    "    if request.method == 'POST':\n",
    "        username = request.form['username']\n",
    "        password = request.form['password']\n",
    "        user = mongo.db.users.find_one({'username': username})\n",
    "        if user and check_password_hash(user['password'], password):\n",
    "            session['username'] = username\n",
    "            return redirect(url_for('index'))\n",
    "        flash('Invalid username or password')\n",
    "        return redirect(url_for('login'))\n",
    "    return render_template('login.html')\n",
    "\n",
    "@app.route('/logout')\n",
    "def logout():\n",
    "    session.pop('username', None)\n",
    "    flash('You have been logged out.')\n",
    "    return redirect(url_for('login'))\n",
    "\n",
    "if __name__ == '__main__':\n",
    "    app.run(debug=True)\n",
    "\n",
    "    \n",
    "\n",
    "'''\n",
    "\n",
    "\n",
    "# login.html code \n",
    "\n",
    "\n",
    "''' <!DOCTYPE html>\n",
    "<html lang=\"en\">\n",
    "<head>\n",
    "    <meta charset=\"UTF-8\">\n",
    "    <meta name=\"viewport\" content=\"width=device-width, initial-scale=1.0\">\n",
    "    <title>Login</title>\n",
    "</head>\n",
    "<body>\n",
    "    <h2>Login</h2>\n",
    "    <form method=\"POST\">\n",
    "        <label for=\"username\">Username:</label>\n",
    "        <input type=\"text\" id=\"username\" name=\"username\" required><br><br>\n",
    "        <label for=\"password\">Password:</label>\n",
    "        <input type=\"password\" id=\"password\" name=\"password\" required><br><br>\n",
    "        <button type=\"submit\">Login</button>\n",
    "    </form>\n",
    "    <p>Don't have an account? <a href=\"{{ url_for('signup') }}\">Sign up here</a></p>\n",
    "</body>\n",
    "</html>\n",
    "'''\n",
    "\n",
    "# signup.html code \n",
    "\n",
    "'''<!DOCTYPE html>\n",
    "<html lang=\"en\">\n",
    "<head>\n",
    "    <meta charset=\"UTF-8\">\n",
    "    <meta name=\"viewport\" content=\"width=device-width, initial-scale=1.0\">\n",
    "    <title>Signup</title>\n",
    "</head>\n",
    "<body>\n",
    "    <h2>Signup</h2>\n",
    "    <form method=\"POST\">\n",
    "        <label for=\"username\">Username:</label>\n",
    "        <input type=\"text\" id=\"username\" name=\"username\" required><br><br>\n",
    "        <label for=\"password\">Password:</label>\n",
    "        <input type=\"password\" id=\"password\" name=\"password\" required><br><br>\n",
    "        <button type=\"submit\">Signup</button>\n",
    "    </form>\n",
    "    <p>Already have an account? <a href=\"{{ url_for('login') }}\">Login here</a></p>\n",
    "</body>\n",
    "</html>\n",
    "'''\n",
    "\n",
    "\n",
    "# Run this code \n",
    "\n",
    "'We have to run this command (python app.py) in terminal to run this app'"
   ]
  },
  {
   "cell_type": "markdown",
   "metadata": {},
   "source": [
    "43.Describe the process of connecting a Flask app to a sQLite database using SQLAIchemy.\n"
   ]
  },
  {
   "cell_type": "code",
   "execution_count": null,
   "metadata": {},
   "outputs": [],
   "source": [
    "'''\n",
    "To connect a Flask app to an SQLite database using SQLAlchemy, you start by installing the \n",
    "required packages, namely Flask and SQLAlchemy. \n",
    "\n",
    "In our Flask application, we configure the SQLAlchemy connection by setting the SQLALCHEMY_DATABASE_URI \n",
    "in the app's configuration to point to your SQLite database file, typically formatted as \n",
    "sqlite:///path/to/database.db. \n",
    "\n",
    "Next, we have to create an instance of the SQLAlchemy class, passing the Flask app object to it. \n",
    "This instance manages the database connection and provides an interface for interacting \n",
    "with the database. \n",
    "\n",
    "We define our database schema by creating model classes that inherit from db.Model, where each \n",
    "class represents a table in the database, with its attributes corresponding to the table columns. \n",
    "\n",
    "After defining our models, we initialize the database and create the tables by running db.create_all(), \n",
    "which generates the tables in the SQLite database according to your model definitions. \n",
    "\n",
    "With this setup, you can use SQLAlchemy's ORM (Object-Relational Mapping) capabilities to perform \n",
    "CRUD (Create, Read, Update, Delete) operations on your SQLite database through Flask, \n",
    "leveraging the convenience and abstraction provided by SQLAlchemy.\n",
    "\n",
    "'''"
   ]
  },
  {
   "cell_type": "markdown",
   "metadata": {},
   "source": [
    "44.How would you create a RESTful API endpoint in Flask that returns JSON data?\n"
   ]
  },
  {
   "cell_type": "code",
   "execution_count": null,
   "metadata": {},
   "outputs": [],
   "source": []
  },
  {
   "cell_type": "markdown",
   "metadata": {},
   "source": [
    "45.Explain how to use Flask-₩TF to create and validate forms in a Flask application.\n"
   ]
  },
  {
   "cell_type": "code",
   "execution_count": null,
   "metadata": {},
   "outputs": [],
   "source": []
  },
  {
   "cell_type": "markdown",
   "metadata": {},
   "source": [
    "46.How can you implement file uploads in a Flask application?\n"
   ]
  },
  {
   "cell_type": "code",
   "execution_count": null,
   "metadata": {},
   "outputs": [],
   "source": [
    "\n",
    "# Step1: Create a app.py file and write following code in it \n",
    "\n",
    "from flask import Flask, request, redirect, url_for, render_template\n",
    "import os\n",
    "\n",
    "\n",
    "'''First import all necessary libaries'''\n",
    "\n",
    "app = Flask(__name__)\n",
    "app.config['UPLOAD_FOLDER'] = 'uploads'  \n",
    "app.config['MAX_CONTENT_LENGTH'] = 16 * 1024 * 1024  \n",
    "app.secret_key = 'your_secret_key'  \n",
    "\n",
    "# Check the upload folder exists\n",
    "if not os.path.exists(app.config['UPLOAD_FOLDER']):\n",
    "    os.makedirs(app.config['UPLOAD_FOLDER'])\n",
    "\n",
    "@app.route('/', methods=['GET', 'POST'])\n",
    "def upload_file():\n",
    "    if request.method == 'POST':\n",
    "        if 'file' not in request.files:\n",
    "            return redirect(request.url)\n",
    "        file = request.files['file']\n",
    "        if file.filename == '':\n",
    "            return redirect(request.url)\n",
    "        if file:\n",
    "            filename = secure_filename(file.filename)\n",
    "            file.save(os.path.join(app.config['UPLOAD_FOLDER'], filename))\n",
    "            return 'File uploaded successfully!'\n",
    "    return render_template('upload.html')\n",
    "\n",
    "if __name__ == '__main__':\n",
    "    app.run(debug=True)\n",
    "\n",
    "\n",
    "\n",
    "\n",
    "#Step 2 Create html template file  \n",
    "\n",
    "\n",
    "'''<!doctype html>\n",
    "<html lang=\"en\">\n",
    "<head>\n",
    "    <meta charset=\"utf-8\">\n",
    "    <title>File Upload</title>\n",
    "</head>\n",
    "<body>\n",
    "    <h1>Upload a File</h1>\n",
    "    <form method=\"POST\" enctype=\"multipart/form-data\">\n",
    "        <label for=\"file\">Choose file:</label>\n",
    "        <input type=\"file\" id=\"file\" name=\"file\">\n",
    "        <button type=\"submit\">Upload</button>\n",
    "    </form>\n",
    "</body>\n",
    "</html>\n",
    "'''\n",
    "\n",
    "# Step3 Run the flask app \n",
    "'''python app.py '''\n",
    "\n",
    "# Step 4\n",
    "\n",
    "'''5. Test File Upload\n",
    "Open your web browser and go to http://127.0.0.1:5000/.\n",
    "Use the file input to choose a file and submit the form.\n",
    "'''"
   ]
  },
  {
   "cell_type": "markdown",
   "metadata": {},
   "source": [
    "47.Describe the steps to create a Flask blueprint and why you might use one.\n"
   ]
  },
  {
   "cell_type": "code",
   "execution_count": null,
   "metadata": {},
   "outputs": [],
   "source": []
  },
  {
   "cell_type": "markdown",
   "metadata": {},
   "source": [
    "48.How would you deploy a Flask application to a production server using Gunicorn and Nginx?\n"
   ]
  },
  {
   "cell_type": "code",
   "execution_count": null,
   "metadata": {},
   "outputs": [],
   "source": [
    "# Step1 Create wsgi.py file \n",
    "'''# wsgi.py\n",
    "from app import app  \n",
    "\n",
    "if __name__ == \"__main__\":\n",
    "    app.run()\n",
    "'''\n",
    "\n",
    "# Step2 Setup server Environment\n",
    "'''Access the server: Connect to your server via SSH.'''\n",
    "\n",
    "# Step3 Install required library \n",
    "'''pip instll gunicorn\n",
    "install Nginx\n",
    "'''\n",
    "\n",
    "# Step4 Configure Gunicorn\n",
    "'''\n",
    "gunicorn --workers 3 wsgi:app\n",
    "'''\n",
    "\n",
    "# Step5 Create a Gunicorn systemd service:\n",
    "\n",
    "'''Create a file named /etc/systemd/system/myapp.service:''' \n",
    "#replace placeholders with actuall values of yours\n",
    "\n",
    "'''[Unit]\n",
    "Description=Gunicorn instance to serve myapp\n",
    "After=network.target\n",
    "\n",
    "[Service]\n",
    "User=your_user\n",
    "Group=www-data\n",
    "WorkingDirectory=/path/to/your/app\n",
    "ExecStart=/path/to/your/venv/bin/gunicorn --workers 3 --bind unix:/path/to/your/app/myapp.sock wsgi:app\n",
    "\n",
    "[Install]\n",
    "WantedBy=multi-user.target\n",
    "'''\n",
    "\n",
    "# Step 6 Start the gunicorn services \n",
    "\n",
    "''' sudo systemctl start myapp\n",
    "sudo systemctl enable myapp\n",
    "\n",
    "'''\n",
    "\n",
    "# Step 7. Configure Nginx\n",
    "\n",
    "'''server {\n",
    "    listen 80;\n",
    "    server_name your_domain_or_ip;\n",
    "\n",
    "    location / {\n",
    "        proxy_pass http://unix:/path/to/your/app/myapp.sock;\n",
    "        proxy_set_header Host $host;\n",
    "        proxy_set_header X-Real-IP $remote_addr;\n",
    "        proxy_set_header X-Forwarded-For $proxy_add_x_forwarded_for;\n",
    "        proxy_set_header X-Forwarded-Proto $scheme;\n",
    "    }\n",
    "\n",
    "    location /static {\n",
    "        alias /path/to/your/app/static;\n",
    "    }\n",
    "}\n",
    "'''\n",
    "\n",
    "\n",
    "# Enable the Nginx configuration:\n",
    "'''sudo ln -s /etc/nginx/sites-available/myapp /etc/nginx/sites-enabled\n",
    "'''\n",
    "\n",
    "# Test and restart Nginx:\n",
    "'''sudo nginx -t\n",
    "sudo systemctl restart nginx'''\n",
    "\n",
    "\n",
    "'''Step8 Check Deployment\n",
    "Visit your application: Open a web browser and navigate\n",
    "to see your Flask application in action.'''\n"
   ]
  },
  {
   "cell_type": "markdown",
   "metadata": {},
   "source": [
    "49. Make a fully functional web application using flask, Mangodb. Signup,signin page.And after successfully\n",
    "login.Say hello Geeks message at webpage"
   ]
  },
  {
   "cell_type": "code",
   "execution_count": null,
   "metadata": {},
   "outputs": [],
   "source": [
    "# app.py code \n",
    "\n",
    "\n",
    "'we have to install some necessary libraries'\n",
    "\n",
    "''' \n",
    "from flask import Flask, render_template, request, redirect, url_for, session, flash\n",
    "from flask_pymongo import PyMongo\n",
    "from werkzeug.security import generate_password_hash, check_password_hash\n",
    "from dotenv import load_dotenv\n",
    "import os\n",
    "\n",
    "# Load environment variables\n",
    "load_dotenv()\n",
    "\n",
    "app = Flask(__name__)\n",
    "app.secret_key = 'your_secret_key'  # Replace with a real secret key\n",
    "\n",
    "# MongoDB configuration\n",
    "app.config['MONGO_URI'] = os.getenv('MONGO_URI')\n",
    "mongo = PyMongo(app)\n",
    "\n",
    "@app.route('/')\n",
    "def index():\n",
    "    if 'username' in session:\n",
    "        return f'Hello {session[\"username\"]}'\n",
    "    return render_template('login.html')\n",
    "\n",
    "@app.route('/signup', methods=['GET', 'POST'])\n",
    "def signup():\n",
    "    if request.method == 'POST':\n",
    "        username = request.form['username']\n",
    "        password = request.form['password']\n",
    "        if mongo.db.users.find_one({'username': username}):\n",
    "            flash('Username already exists')\n",
    "            return redirect(url_for('signup'))\n",
    "        hashed_password = generate_password_hash(password, method='sha256')\n",
    "        mongo.db.users.insert_one({'username': username, 'password': hashed_password})\n",
    "        flash('Signup successful! Please log in.')\n",
    "        return redirect(url_for('login'))\n",
    "    return render_template('signup.html')\n",
    "\n",
    "@app.route('/login', methods=['GET', 'POST'])\n",
    "def login():\n",
    "    if request.method == 'POST':\n",
    "        username = request.form['username']\n",
    "        password = request.form['password']\n",
    "        user = mongo.db.users.find_one({'username': username})\n",
    "        if user and check_password_hash(user['password'], password):\n",
    "            session['username'] = username\n",
    "            return redirect(url_for('index'))\n",
    "        flash('Invalid username or password')\n",
    "        return redirect(url_for('login'))\n",
    "    return render_template('login.html')\n",
    "\n",
    "@app.route('/logout')\n",
    "def logout():\n",
    "    session.pop('username', None)\n",
    "    flash('You have been logged out.')\n",
    "    return redirect(url_for('login'))\n",
    "\n",
    "if __name__ == '__main__':\n",
    "    app.run(debug=True)\n",
    "\n",
    "    \n",
    "\n",
    "'''\n",
    "\n",
    "\n",
    "# login.html code \n",
    "\n",
    "\n",
    "''' <!DOCTYPE html>\n",
    "<html lang=\"en\">\n",
    "<head>\n",
    "    <meta charset=\"UTF-8\">\n",
    "    <meta name=\"viewport\" content=\"width=device-width, initial-scale=1.0\">\n",
    "    <title>Login</title>\n",
    "</head>\n",
    "<body>\n",
    "    <h2>Login</h2>\n",
    "    <form method=\"POST\">\n",
    "        <label for=\"username\">Username:</label>\n",
    "        <input type=\"text\" id=\"username\" name=\"username\" required><br><br>\n",
    "        <label for=\"password\">Password:</label>\n",
    "        <input type=\"password\" id=\"password\" name=\"password\" required><br><br>\n",
    "        <button type=\"submit\">Login</button>\n",
    "    </form>\n",
    "    <p>Don't have an account? <a href=\"{{ url_for('signup') }}\">Sign up here</a></p>\n",
    "</body>\n",
    "</html>\n",
    "'''\n",
    "\n",
    "# signup.html code \n",
    "\n",
    "'''<!DOCTYPE html>\n",
    "<html lang=\"en\">\n",
    "<head>\n",
    "    <meta charset=\"UTF-8\">\n",
    "    <meta name=\"viewport\" content=\"width=device-width, initial-scale=1.0\">\n",
    "    <title>Signup</title>\n",
    "</head>\n",
    "<body>\n",
    "    <h2>Signup</h2>\n",
    "    <form method=\"POST\">\n",
    "        <label for=\"username\">Username:</label>\n",
    "        <input type=\"text\" id=\"username\" name=\"username\" required><br><br>\n",
    "        <label for=\"password\">Password:</label>\n",
    "        <input type=\"password\" id=\"password\" name=\"password\" required><br><br>\n",
    "        <button type=\"submit\">Signup</button>\n",
    "    </form>\n",
    "    <p>Already have an account? <a href=\"{{ url_for('login') }}\">Login here</a></p>\n",
    "</body>\n",
    "</html>\n",
    "'''\n",
    "\n",
    "\n",
    "# Run this code \n",
    "\n",
    "'We have to run this command (python app.py) in terminal to run this app'"
   ]
  },
  {
   "cell_type": "markdown",
   "metadata": {},
   "source": [
    "50.Machine Learning:"
   ]
  },
  {
   "cell_type": "markdown",
   "metadata": {},
   "source": [
    " What is the difference between Series & Dataframes\n"
   ]
  },
  {
   "cell_type": "code",
   "execution_count": null,
   "metadata": {},
   "outputs": [],
   "source": [
    "# series \n",
    "\n",
    "\n",
    "'''A series is a one-dimensional array like object that can hold any type of data\n",
    "\n",
    "It consist of data and its index value\n",
    "\n",
    "Series used to represent a single column in a dataframe \n",
    "'''\n",
    "\n",
    "# eg Create a Series\n",
    "\n",
    "'''\n",
    "age = pd.Series([23, 45, 34, 30], index=['A', 'B', 'C', 'D'])\n",
    "print(age)\n",
    "\n",
    "'''\n",
    "\n",
    "# DataFrame \n",
    "\n",
    "'''A dataframe is a two dimensional data structure which stores data in form of rows and columns\n",
    "Dataframe can store heterogeneous tabular data \n",
    "\n",
    "Dataframe also called as a collection of series.\n",
    "\n",
    "Dataframe used for storing and manipulating tabular data.\n",
    " '''\n",
    "\n",
    "# eg Create a dataframe \n",
    "\n",
    "'''import pandas as pd\n",
    "\n",
    "# Example of a DataFrame\n",
    "data = pd.DataFrame({\n",
    "    'A': [1, 2, 3, 4],\n",
    "    'B': [5, 6, 7, 8],\n",
    "    'C': ['p', 'q', 'r', 's']\n",
    "}, index=['a', 'b', 'c', 'd'])\n",
    "'''\n",
    "\n",
    "\n",
    "\n"
   ]
  },
  {
   "cell_type": "markdown",
   "metadata": {},
   "source": [
    "Create a database name Travel_ Planner in mysql ,and create a table name bookings in that which having\n",
    " attributes (user_id INT, flight_id INT,hotel_id INT, activity_id INT,booking_date DATE).fill with some dummy\n",
    " value .Now you have to read the content of this table using pandas as dataframe.Show the output.\n"
   ]
  },
  {
   "cell_type": "code",
   "execution_count": null,
   "metadata": {},
   "outputs": [],
   "source": []
  },
  {
   "cell_type": "markdown",
   "metadata": {},
   "source": [
    "Difference between loc and iloc.\n"
   ]
  },
  {
   "cell_type": "code",
   "execution_count": null,
   "metadata": {},
   "outputs": [],
   "source": [
    "'''iloc and loc are both the methods of pandas which used for selecting rows and columns from dataframe'''\n",
    "\n",
    "\n",
    "# loc\n",
    "'''\n",
    "Indexing by Labels: loc is label-based, meaning we use the actual row and column labels to access data.\n",
    "\n",
    "eg. df.loc[row_label, column_label]\n",
    "\n",
    "When slicing, loc includes the end points.\n",
    "For example, df.loc[1:3] will include rows with labels 1, 2, and 3.\n",
    "\n",
    "We can use boolean conditions to filter rows or columns\n",
    "'''\n",
    "\n",
    "# iloc\n",
    "'''\n",
    "iloc is integer-location based, meaning we use integer positions to access data,\n",
    "insted of the row or column \n",
    "\n",
    "e.g. df.iloc[row_index, column_index]\n",
    "\n",
    "When slicing, iloc can not include end points. \n",
    "For example, df.iloc[1:3] will include rows at index positions 1 and 2, but not 3\n",
    "\n",
    "We can use integer-based arrays to filter rows or columns.\n",
    "\n",
    "'''"
   ]
  },
  {
   "cell_type": "markdown",
   "metadata": {},
   "source": [
    "What is the difference between supervised and unsupervised learning?"
   ]
  },
  {
   "cell_type": "code",
   "execution_count": 1,
   "metadata": {},
   "outputs": [
    {
     "data": {
      "text/plain": [
       "'\\n\\nDefinition:\\n\\nUnsupervised learning involves training a model on an unlabeled dataset, \\nwhere the output labels are not provided. \\nThe model tries to learn the underlying structure or patterns from the given data.\\n\\n\\nObjective:\\n\\nThe goal is to uncover hidden patterns, groupings, \\nor structures in the data without pre-defined labels.\\n\\n\\nData \\n\\nUnsupervised learning required unlabled data only re\\n\\nTypes of problems \\n\\nClustering: Grouping similar data points together. \\nDimensionality Reduction: Reducing the number of features while retaining important information.\\nFor example, Principal Component Analysis (PCA) for feature reduction.\\nAssociation: Finding relationships between variables.\\n\\n\\nAlgorithms of unsupervised learning \\n\\nk-means clustring \\nDBSCAN\\n\\n\\nUseful for exploratory data analysis, pattern discovery, and feature reduction.\\n\\n'"
      ]
     },
     "execution_count": 1,
     "metadata": {},
     "output_type": "execute_result"
    }
   ],
   "source": [
    "'''Supervised and unsupervised learning are both the techiniques used in traning Ml-model'''\n",
    "\n",
    "# Supervised learning\n",
    "\n",
    "\n",
    "#Definition\n",
    "\n",
    "'''Supervised learning involves training a model on a labeled dataset,\n",
    "which means that each training example comes with an associated output label. \n",
    "The model learns to map inputs to outputs based on this labeled data.'''\n",
    "\n",
    "'''The goal is to predict the output for new, unseen data based on the patterns learned from the training data.'''\n",
    "\n",
    "#Types of Problems:\n",
    "'''\n",
    "Classification: Predicting discrete labels or categories.\n",
    "For example, classifying emails as spam or not spam.\n",
    "Regression: Predicting continuous values. \n",
    "For example, forecasting house prices based on features like size, location, and number of bedrooms.'''\n",
    "\n",
    "# Algorithms\n",
    "\n",
    "'''\n",
    "Linear regression \n",
    "Logistic regression \n",
    "svm \n",
    "Random forests \n",
    "Decision trees\n",
    "\n",
    "'''\n",
    "\n",
    "'''Usefull for predict the outcome'''\n",
    "\n",
    "\n",
    "# Unsupervised learning \n",
    "\n",
    "\n",
    "# Definition\n",
    "\n",
    "'''\n",
    "Unsupervised learning involves training a model on an unlabeled dataset, \n",
    "where the output labels are not provided. \n",
    "The model tries to learn the underlying structure or patterns from the given data.\n",
    "''' \n",
    "# Objective\n",
    "'''\n",
    "The goal is to uncover hidden patterns, groupings, \n",
    "or structures in the data without pre-defined labels.\n",
    "'''\n",
    "# Data \n",
    "'''\n",
    "Unsupervised learning required unlabled data only re\n",
    "'''\n",
    "# Types of problems \n",
    "'''\n",
    "Clustering: Grouping similar data points together. \n",
    "Dimensionality Reduction: Reducing the number of features while retaining important information.\n",
    "For example, Principal Component Analysis (PCA) for feature reduction.\n",
    "Association: Finding relationships between variables.\n",
    "'''\n",
    "# Algorithms of unsupervised learning \n",
    "'''\n",
    "k-means clustring \n",
    "DBSCAN\n",
    "'''\n",
    "\n",
    "'''Useful for exploratory data analysis, pattern discovery, and feature reduction.''' \n",
    "\n"
   ]
  },
  {
   "cell_type": "markdown",
   "metadata": {},
   "source": [
    "Explain the bias-variance tradeoff."
   ]
  },
  {
   "cell_type": "code",
   "execution_count": null,
   "metadata": {},
   "outputs": [],
   "source": [
    "'''\n",
    "The bias-variance tradeoff is a fundamental concept in machine learning and statistics that describes \n",
    "the tradeoff between two types of errors that affect model performance bias and variance.\n",
    "Understanding this tradeoff helps in building models that generalize well to unseen data.\n",
    "\n",
    "Bias\n",
    "\n",
    "Bias refers to the error introduced by approximating a real-world problem,\n",
    "which may be complex, by a simpler model. \n",
    "It represents how much the model's predictions differ from the true values on average.\n",
    "High bias means that the model makes strong assumptions about the data, \n",
    "leading to systematic errors.\n",
    "\n",
    "\n",
    "High Bias: Model is too simplistic and may not capture the underlying patterns in the data. \n",
    "This often results in underfitting, where the model performs poorly both on training and testing data.\n",
    "High bias leads to a model that is not flexible enough to fit the training data well, \n",
    "resulting in poor performance and a high training error.\n",
    "\n",
    "\n",
    "\n",
    "Variance\n",
    "\n",
    "Variance refers to the error introduced by the model's sensitivity to fluctuations in the training data. \n",
    "It represents how much the model's predictions vary for different training datasets. \n",
    "High variance indicates that the model is too complex and captures noise in the training data \n",
    "as if it were a true pattern.\n",
    "\n",
    "\n",
    "High Variance Model is too complex and fits the training data too closely, \n",
    "including its noise and outliers. \n",
    "\n",
    "This often results in overfitting, where the model performs well on the training data but poorly on new, \n",
    "unseen data.\n",
    "\n",
    "High variance leads to a model that is too sensitive to the training data, resulting in high performance on training data \n",
    "but poor generalization to new data.\n",
    "\n",
    "\n",
    "\n",
    "Bias-variance tradeoff \n",
    "\n",
    "The goal in machine learning is to find a model with the right balance between bias and variance. \n",
    "\n",
    "As model complexity increases Bias Decreases: \n",
    "The model becomes more flexible and can better capture patterns in the training data.\n",
    "\n",
    "Variance Increases: The model starts fitting the noise in the training data, leading to overfitting.\n",
    "\n",
    "Conversely, as model complexity decreases:\n",
    "Bias Increases: The model becomes less flexible and may not capture the underlying patterns well.\n",
    "\n",
    "Variance Decreases: The model is more stable and less affected by noise in the training data.\n",
    "\n",
    "A simple model with high bias has high training error and high testing error.\n",
    "\n",
    "A balanced model where bias and variance are minimized, leading to the lowest overall error on both training and testing data.\n",
    "A complex model with high variance has low training error but high testing error.\n",
    "\n",
    "\n",
    "How to Manage the Tradeoff\n",
    "\n",
    "Cross-Validation: we use techniques like k-fold cross-validation to evaluate model performance on multiple subsets \n",
    "of the data to find the optimal model complexity.\n",
    "\n",
    "Regularization: Apply regularization techniques (like L1 or L2 regularization) to penalize overly \n",
    "complex models and prevent overfitting.\n",
    "\n",
    "Model Selection: Choose the right model complexity based on performance metrics and validation results.\n",
    "\n",
    "Feature Selection: Reduce the number of features to decrease model complexity and variance.\n",
    "\n",
    "'''"
   ]
  },
  {
   "cell_type": "markdown",
   "metadata": {},
   "source": [
    "\n",
    "What are precision and recall? How are they different from accuracy?"
   ]
  },
  {
   "cell_type": "code",
   "execution_count": null,
   "metadata": {},
   "outputs": [],
   "source": [
    "'''Precision, recall, and accuracy are metrics used to evaluate the performance of classification models, \n",
    "but they each focus on different aspects of the model's performance. \n",
    "'''\n",
    "\n",
    "# Accuracy \n",
    "'''\n",
    "Accuracy measures the proportion of correctly classified instances \n",
    "(both true positives and true negatives) out of the total number of instances.\n",
    "\n",
    "'''\n",
    "\n",
    "# Formula \n",
    "\n",
    "'''\n",
    "\n",
    "            True Positives + True Negatives\n",
    "Accuracy = ---------------------------------\n",
    "                Total Numberof Instances\n",
    "'''\n",
    "\n",
    "\n",
    "\n",
    "# Precision \n",
    "\n",
    "'''\n",
    "Precision measures the proportion of true positive predictions out of all positive predictions \n",
    "made by the model. \n",
    "It reflects how many of the instances identified as positive are actually positive.\n",
    "'''\n",
    "\n",
    "# Formula \n",
    "\n",
    "'''Precision = True positive / True positive + False Positive '''\n",
    "\n",
    "\n",
    "# Use Case\n",
    "''' Precision is particularly important when the cost of false positives is high. \n",
    "For example, in a medical test for a rare disease, \n",
    "we want to ensure that when the model predicts positive, \n",
    "it is highly likely to be correct.'''\n",
    "\n",
    "\n",
    "\n",
    "# Recall\n",
    "\n",
    "'''\n",
    "Recall (also known as Sensitivity or True Positive Rate) measures the proportion of true positive predictions \n",
    "out of all actual positives in the data. \n",
    "It reflects how many of the actual positive instances were correctly identified by the model.\n",
    "\n",
    "\n",
    "Formula \n",
    "\n",
    "Recall = True Positive /  True positive + False negative \n",
    "\n",
    "Use Case\n",
    "\n",
    "Recall is crucial when the cost of false negatives is high. \n",
    "For example, in a spam detection system, failing to catch spam emails (false negatives) \n",
    "might be more problematic than misclassifying a few legitimate emails as spam.\n",
    "\n",
    "'''\n"
   ]
  },
  {
   "cell_type": "markdown",
   "metadata": {},
   "source": [
    "What is overfitting and how can it be prevented?"
   ]
  },
  {
   "cell_type": "code",
   "execution_count": null,
   "metadata": {},
   "outputs": [],
   "source": [
    "# Overfitting \n",
    "\n",
    "'''The overfitting occures when model learn about the underline pattern as well as noices as a result \n",
    "the model perform well on traning data but do not perform well on unseen data'''\n",
    "\n",
    "\n",
    "# Causes \n",
    "'''\n",
    "1.Overfitting causes due to highly complex model with too many parameters\n",
    "2.Insufficient data \n",
    "3.Noise in data \n",
    "\n",
    "'''\n",
    "\n",
    "# How to prevent overfitting \n",
    "'''\n",
    "1.With simplifying model we can reduce the overfitting \n",
    "2.Apply regularization techiniques like L1 and L2 regularization to penalies the model large weight to \n",
    "prevent it from becoming complex.\n",
    "3.Increase the traning data.\n",
    "4.K-Fold Cross-Validation Split the data into K folds and train the model K times\n",
    "each time using a different fold as the validation set and the remaining as the training set. \n",
    "This helps in evaluating the model's performance more robustly.\n",
    "'''"
   ]
  },
  {
   "cell_type": "markdown",
   "metadata": {},
   "source": [
    " Explain the concept of cross-validation"
   ]
  },
  {
   "cell_type": "code",
   "execution_count": null,
   "metadata": {},
   "outputs": [],
   "source": [
    "'Cross validation is a techinique used in measuring the performance of model on unseen data '\n",
    "\n",
    "'''The data is divided into the parts for training and testing purpose'''\n",
    "\n",
    "# Basic idea \n",
    "\n",
    "'''\n",
    "1.Spliting the data \n",
    "\n",
    "The model is split into the k-folds in k-fold cross validation.\n",
    "\n",
    "2.Traning and testing \n",
    "\n",
    "The model is trained on k-1 folds of data and tested on remaining folds that not include in data.\n",
    "The process is repeated k-times each time using diffrent folds.\n",
    "\n",
    "3.Aggregation \n",
    "\n",
    "The permormance metrics like precession, recall are calculated for each fold and the averaged to get overall \n",
    "performance of model.\n",
    "\n",
    "'''\n",
    "\n",
    "# Types of cross-validation \n",
    "\n",
    "'''\n",
    "1.K-fold cross validation - The data is divided into k-folds and then model is trained k times each time \n",
    "on diffrent folds and tested on remaining folds \n",
    "\n",
    "2.Leave-One-Out Cross-Validation (LOOCV) \n",
    "A special case of k-fold cross-validation where k is equal to the number of data points. \n",
    "Each data point is used as a test set exactly once and the remaining points form the training set.\n",
    "\n",
    "3.Stratified k-Fold Cross-Validation \n",
    "Similar to k-fold cross-validation but ensures that each fold has a representative proportion \n",
    "of classes, especially useful for imbalanced datasets.\n",
    "\n",
    "4.Group k-Fold Cross-Validation \n",
    "Used when there are groups within the data that should not be split across the training and test sets. \n",
    "Ensures that all data from a particular group is either in the training set or the test set, \n",
    "but not both.\n",
    "\n",
    "'''\n",
    "\n",
    "# Advantages \n",
    "\n",
    "'''\n",
    "1.Better generalization \n",
    "2.Effcient use of data \n",
    "3.Reduces bias \n",
    "'''\n",
    "# Disadvantages \n",
    "\n",
    "'''\n",
    "1.computationally expensive \n",
    "2.Implementation is more complex than simple train test split \n",
    "''' "
   ]
  },
  {
   "cell_type": "markdown",
   "metadata": {},
   "source": [
    "What is the difference between a classification and a regression problem?"
   ]
  },
  {
   "cell_type": "code",
   "execution_count": 2,
   "metadata": {},
   "outputs": [
    {
     "data": {
      "text/plain": [
       "'\\nClassification and regression are the most fundamental problems in machine learning \\n\\n'"
      ]
     },
     "execution_count": 2,
     "metadata": {},
     "output_type": "execute_result"
    }
   ],
   "source": [
    "'''\n",
    "Classification and regression are the most fundamental problems in machine learning we use diffrent \n",
    "algorithms based on out requirements to solve the problems. \n",
    "\n",
    "'''\n",
    "\n",
    "# classification \n",
    "\n",
    "'''In classfication problems we have to arrange the data to diffrent classes or to predict in which \n",
    "class object lies\n",
    "There are multiple types pres3ent of classification problem present \n",
    "1.Binary classification - Two class classification \n",
    "2.Multiclass classification - more than two class classification \n",
    "3.Multilabel classification - Each instance assign multiple labels \n",
    "\n",
    "Classification Algorithms examples \n",
    "\n",
    "Decision tree classification \n",
    "Random forest classification \n",
    "SVM classifier \n",
    "Logastic regression classfier \n",
    "\n",
    "'''\n",
    "\n",
    "# Regression \n",
    "\n",
    "'''In Regression the algorithm predict the outcome based on the data it trained \n",
    "In regression output variable is dependent upon one or more independent variables \n",
    "There are two types of regression model based on input variables\n",
    "1. simple linear regression \n",
    "2. Multiple linear regression \n",
    "\n",
    "Regression algorithm example\n",
    "\n",
    "Decision tree regressor \n",
    "Logastic regressor \n",
    "Linear regressor \n",
    "\n",
    "'''"
   ]
  },
  {
   "cell_type": "markdown",
   "metadata": {},
   "source": [
    "Explain the concept of ensemble learning."
   ]
  },
  {
   "cell_type": "code",
   "execution_count": null,
   "metadata": {},
   "outputs": [],
   "source": [
    "'''\n",
    "Ensemble learning is a technique that improves predictive performance by combining multiple models to \n",
    "make a final decision, leveraging the strengths of each individual model. \n",
    "\n",
    "It includes methods like bagging, which builds multiple models on different subsets of data to \n",
    "reduce variance boosting, which sequentially trains models to correct the errors of previous ones \n",
    "and enhance accuracy and stacking, which uses a meta-learner to combine the predictions of various \n",
    "base models. \n",
    "\n",
    "By aggregating the outputs of several models, ensemble learning often results in better accuracy, \n",
    "reduced overfitting, and increased robustness to noisy data. \n",
    "\n",
    "However, it can be computationally intensive and may complicate interpretation of the final model.\n",
    "\n",
    "'''"
   ]
  },
  {
   "cell_type": "markdown",
   "metadata": {},
   "source": [
    "\n",
    "What is gradient descent and how does it work?"
   ]
  },
  {
   "cell_type": "code",
   "execution_count": null,
   "metadata": {},
   "outputs": [],
   "source": [
    "'''\n",
    "Gradient descent is an optimization algorithm used to minimize a loss function by iteratively \n",
    "adjusting model parameters. \n",
    "\n",
    "It starts with an initial guess for the parameters and computes the gradient of the loss function, \n",
    "which indicates the direction of the steepest increase. \n",
    "\n",
    "The algorithm then updates the parameters by moving in the opposite direction of this gradient, \n",
    "scaled by a learning rate, which controls the step size of the updates. \n",
    "\n",
    "This process is repeated, recalculating the gradient and adjusting the parameters until the loss \n",
    "function converges to its minimum or changes insignificantly. \n",
    "\n",
    "\n",
    "Types of gradient descent \n",
    "\n",
    "\n",
    "1.Batch gradient descent - which uses the entire dataset for each update\n",
    "\n",
    "2.stochastic gradient descent (SGD) - which uses individual data points or small batches, \n",
    "introducing more noise but speeding up convergence \n",
    "\n",
    "3.mini-batch gradient descent -  which combines the benefits of both approaches by using small, \n",
    "randomly selected batches.'''"
   ]
  },
  {
   "cell_type": "markdown",
   "metadata": {},
   "source": [
    "Describe the difference between batch gradient descent and stochastic gradient descent."
   ]
  },
  {
   "cell_type": "code",
   "execution_count": null,
   "metadata": {},
   "outputs": [],
   "source": [
    "# Batch gradient descent \n",
    "\n",
    "'''\n",
    "Batch Gradient Descent computes the gradient of the loss function using the entire dataset to \n",
    "perform each update of the model's parameters. \n",
    "\n",
    "By averaging the gradients across all data points, it provides a precise estimate of the \n",
    "gradient direction and magnitude, which helps in making stable and consistent updates. \n",
    "\n",
    "This method ensures that each update is based on a comprehensive view of the data, which can lead \n",
    "to reliable convergence but may be computationally expensive and slow, especially with large \n",
    "datasets, as it requires processing the entire dataset before making any adjustments to the model.'''\n",
    "\n",
    "# stochastic gradient descent \n",
    "\n",
    "\n",
    "''' \n",
    "\n",
    "Stochastic Gradient Descent (SGD), on the other hand, updates the model parameters more \n",
    "frequently by using only a single data point or a small batch of data points to compute the \n",
    "gradient for each update. \n",
    "\n",
    "This introduces a degree of noise into the gradient estimates, but allows for faster updates and \n",
    "quicker convergence, particularly beneficial for large datasets where computing gradients \n",
    "over the entire dataset is impractical. \n",
    "\n",
    "While SGD can converge more quickly and handle large-scale data efficiently, the noisy updates \n",
    "can lead to oscillations in the convergence path, requiring careful tuning of the learning \n",
    "rate and additional techniques such as momentum or learning rate scheduling to achieve stable and \n",
    "effective training.\n",
    "\n",
    "'''"
   ]
  },
  {
   "cell_type": "markdown",
   "metadata": {},
   "source": [
    "What is the curse of dimensionality in machine learning?\n"
   ]
  },
  {
   "cell_type": "code",
   "execution_count": null,
   "metadata": {},
   "outputs": [],
   "source": [
    "'''\n",
    "The curse of dimensionality refers to the problems and inefficiencies that arise when working \n",
    "with high-dimensional data in machine learning. \n",
    "\n",
    "As the number of features (dimensions) increases, the data becomes increasingly sparse, \n",
    "making it difficult for algorithms to find meaningful patterns or relationships. \n",
    "\n",
    "This sparsity affects distance metrics, causing distances between points to become less informative. \n",
    "\n",
    "High-dimensional data also amplifies the risk of overfitting, where models learn noise rather than \n",
    "genuine patterns due to increased complexity. \n",
    "\n",
    "Additionally, training models and storing data in high dimensions require significantly more \n",
    "computational resources and memory. \n",
    "\n",
    "Visualizing and interpreting such data becomes challenging, as traditional methods are ineffective \n",
    "beyond three dimensions. \n",
    "\n",
    "Techniques like dimensionality reduction and feature selection are often employed to address these \n",
    "issues and improve model performance.\n",
    "\n",
    "'''"
   ]
  },
  {
   "cell_type": "markdown",
   "metadata": {},
   "source": [
    "Explain the difference between L1 and L2 regularization\n"
   ]
  },
  {
   "cell_type": "code",
   "execution_count": null,
   "metadata": {},
   "outputs": [],
   "source": []
  },
  {
   "cell_type": "markdown",
   "metadata": {},
   "source": [
    "What is a confusion matrix and how is it used?\n"
   ]
  },
  {
   "cell_type": "code",
   "execution_count": null,
   "metadata": {},
   "outputs": [],
   "source": [
    "'''\n",
    "A confusion matrix is a performance measurement tool for classification models, \n",
    "providing a detailed breakdown of the model's predictions compared to the actual outcomes. \n",
    "\n",
    "It consists of a table with four key components -  true positives (TP), false positives (FP), \n",
    "true negatives (TN), and false negatives (FN). Each component represents different types of prediction \n",
    "outcomes—true positives are correct positive predictions, false positives are incorrect positive \n",
    "predictions, \n",
    "true negatives are correct negative predictions, and false negatives are incorrect negative predictions. \n",
    "\n",
    "By analyzing these values, the confusion matrix helps calculate various metrics such as accuracy, \n",
    "precision, recall, and F1 score, which are crucial for evaluating and understanding the model's \n",
    "performance. \n",
    "\n",
    "This matrix is particularly useful for diagnosing classification errors, especially in imbalanced \n",
    "datasets where traditional accuracy may not provide a complete picture of model effectiveness.\n",
    "\n",
    "'''"
   ]
  },
  {
   "cell_type": "markdown",
   "metadata": {},
   "source": [
    "Define AUC-ROC curve.\n"
   ]
  },
  {
   "cell_type": "code",
   "execution_count": null,
   "metadata": {},
   "outputs": [],
   "source": [
    "# ROc curve \n",
    "\n",
    "'''The ROC curve (Receiver Operating Characteristic curve) is a graphical representation used to \n",
    "assess the performance of a binary classification model. \n",
    "It plots the true positive rate against the false positive rate for various threshold settings. \n",
    "\n",
    "By showing how the trade-off between true positives and false positives changes as the threshold varies, \n",
    "the ROC curve provides a visual assessment of the model's ability to distinguish between the \n",
    "positive and negative classes across different levels of classification confidence.\n",
    "\n",
    "'''\n",
    "\n",
    "# AUC curve \n",
    "\n",
    "'''The AUC (Area Under the Curve) is a single metric derived from the ROC curve that quantifies \n",
    "the overall performance of the classification model. \n",
    "\n",
    "It measures the area under the ROC curve, with values ranging from 0 to 1. \n",
    "\n",
    "An AUC of 0.5 indicates that the model performs no better than random guessing, while an AUC of 1.0 \n",
    "represents perfect classification performance. \n",
    "\n",
    "A higher AUC value reflects a model's better ability to correctly identify positive and negative \n",
    "cases across various thresholds, making it a valuable summary measure for model effectiveness. '''"
   ]
  },
  {
   "cell_type": "markdown",
   "metadata": {},
   "source": [
    "Explain the k-nearest neighbors algorithm.\n"
   ]
  },
  {
   "cell_type": "code",
   "execution_count": null,
   "metadata": {},
   "outputs": [],
   "source": [
    "''' The k-nearest neighbors (KNN) algorithm is a simple, instance-based learning method used for \n",
    "classification and regression tasks. \n",
    "\n",
    "It operates by storing all available data and making predictions based on the proximity of \n",
    "data points to a given input. \n",
    "\n",
    "When a new data point needs to be classified or predicted, KNN identifies the 'k' nearest \n",
    "data points from the training set, where 'k' is a user-defined number of neighbors. \n",
    "\n",
    "The algorithm then classifies the new point based on the majority class of these nearest neighbors \n",
    "(for classification) or averages their values (for regression). \n",
    "\n",
    "The choice of 'k' and the distance metric, often Euclidean distance, are crucial for the algorithm's \n",
    "performance. \n",
    "\n",
    "KNN is intuitive and easy to implement but can be computationally expensive for large datasets \n",
    "and sensitive to the choice of 'k' and the scale of features.'''"
   ]
  },
  {
   "cell_type": "markdown",
   "metadata": {},
   "source": [
    "Explain the basic concept of a Support Vector Machine (sVM).\n"
   ]
  },
  {
   "cell_type": "code",
   "execution_count": null,
   "metadata": {},
   "outputs": [],
   "source": [
    "'''\n",
    "A Support Vector Machine (SVM) is a powerful supervised learning algorithm used for classification \n",
    "and regression tasks. \n",
    "The core idea of SVM is to find the optimal hyperplane that best separates the data into distinct \n",
    "classes. \n",
    "\n",
    "In a binary classification problem, SVM seeks a hyperplane that maximizes the margin, or distance, \n",
    "between the hyperplane and the nearest data points from each class, known as support vectors. \n",
    "\n",
    "This optimal hyperplane is the one that ensures the largest possible separation between the classes, \n",
    "thereby improving the model's generalization to unseen data. \n",
    "\n",
    "SVM can handle both linearly separable and non-linearly separable data by using kernel functions, \n",
    "such as polynomial or radial basis function (RBF) kernels, which transform the original feature \n",
    "space into a higher-dimensional space where a linear separation is feasible. \n",
    "\n",
    "This flexibility allows SVM to capture complex relationships in the data. \n",
    "\n",
    "However, SVM can be computationally intensive, especially with large datasets, and its performance \n",
    "is influenced by the choice of kernel and hyperparameters.'''"
   ]
  },
  {
   "cell_type": "markdown",
   "metadata": {},
   "source": [
    "How does the kernel trick work in SVM?"
   ]
  },
  {
   "cell_type": "code",
   "execution_count": null,
   "metadata": {},
   "outputs": [],
   "source": [
    "''' The kernel trick is a technique used in Support Vector Machines (SVMs) to handle non-linearly \n",
    "separable data by implicitly transforming it into a higher-dimensional space where a linear separation \n",
    "is possible. \n",
    "\n",
    "Instead of explicitly computing the coordinates of data points in this higher-dimensional space, \n",
    "the kernel trick allows SVMs to calculate the dot products between data points in the original \n",
    "feature space, using a kernel function. \n",
    "\n",
    "This function, such as the polynomial or radial basis function (RBF) kernel, computes the \n",
    "similarity between pairs of data points as if they were transformed into the higher-dimensional space, \n",
    "but without performing the actual transformation. \n",
    "\n",
    "By applying the kernel function, SVMs can effectively find a hyperplane that separates the \n",
    "classes in this transformed space, thereby achieving non-linear decision boundaries in the \n",
    "original space. \n",
    "\n",
    "This approach significantly simplifies the computation and makes it feasible to work with complex \n",
    "data distributions, allowing SVMs to model intricate relationships without explicitly handling \n",
    "high-dimensional data.'''"
   ]
  },
  {
   "cell_type": "markdown",
   "metadata": {},
   "source": [
    "What are the pros and cons of using a Support Vector Machine (SVM)?\n"
   ]
  },
  {
   "cell_type": "code",
   "execution_count": null,
   "metadata": {},
   "outputs": [],
   "source": []
  },
  {
   "cell_type": "markdown",
   "metadata": {},
   "source": [
    "Explain the difference between a hard margin and a soft margin SVM.\n"
   ]
  },
  {
   "cell_type": "code",
   "execution_count": null,
   "metadata": {},
   "outputs": [],
   "source": [
    "# Hard margin \n",
    "\n",
    "''' \n",
    "Hard Margin SVM is employed when the data is perfectly linearly separable, \n",
    "meaning that there exists a hyperplane that can separate the two classes without any errors. \n",
    "\n",
    "The primary goal of a hard margin SVM is to find this hyperplane while maximizing the margin, \n",
    "which is the distance between the hyperplane and the nearest data points from either class, \n",
    "known as the support vectors. \n",
    "\n",
    "This approach enforces strict constraints that all data points must lie on the correct side of \n",
    "the margin, resulting in no misclassifications. \n",
    "\n",
    "Hard margin SVM is ideal for scenarios where the data is clean and well-separated \n",
    "but can be problematic in real-world situations with noisy or overlapping data.\n",
    "\n",
    "\n",
    "'''\n",
    "\n",
    "# Soft margin\n",
    "\n",
    "'''Soft Margin SVM, on the other hand, is designed to handle cases where the data is not perfectly \n",
    "separable or contains noise. \n",
    "\n",
    "This approach introduces slack variables to allow some degree of misclassification, \n",
    "enabling the model to find a balance between achieving a large margin and minimizing errors. \n",
    "\n",
    "The regularization parameter C controls this trade-off, with higher values emphasizing correct \n",
    "classification and lower values allowing for a wider margin and more tolerance for misclassifications. \n",
    "\n",
    "Soft margin SVM is more robust and flexible, making it suitable for practical applications where \n",
    "data often cannot be perfectly separated.\n",
    "\n",
    "\n",
    "\n",
    "\n",
    "\n",
    "'''"
   ]
  },
  {
   "cell_type": "markdown",
   "metadata": {},
   "source": [
    "Describe the process of constructing a decision tree.\n"
   ]
  },
  {
   "cell_type": "code",
   "execution_count": null,
   "metadata": {},
   "outputs": [],
   "source": [
    "'''\n",
    "\n",
    "Constructing a decision tree involves a systematic approach to splitting data based on \n",
    "feature values to make predictions or classifications. \n",
    "\n",
    "The process begins by evaluating features and selecting the one that best divides the data according \n",
    "to a chosen criterion, such as Information Gain or Gini Impurity. \n",
    "\n",
    "A decision node is created representing this best feature and split value, which branches out \n",
    "into subsets of data. \n",
    "\n",
    "This splitting is applied recursively, creating new nodes and branches until stopping criteria \n",
    "are met, such as reaching a maximum depth or minimal data in a node. \n",
    "\n",
    "Once the tree structure is complete, terminal nodes are assigned labels or values based on the \n",
    "majority class or average value of the data points they contain. \n",
    "\n",
    "To improve model generalization and prevent overfitting.\n",
    "\n",
    "'''"
   ]
  },
  {
   "cell_type": "markdown",
   "metadata": {},
   "source": [
    "Describe the working principle of a decision tree.\n"
   ]
  },
  {
   "cell_type": "code",
   "execution_count": null,
   "metadata": {},
   "outputs": [],
   "source": [
    "'''\n",
    "The working principle of a decision tree involves making decisions by recursively splitting the \n",
    "dataset into subsets based on feature values to classify or predict outcomes. \n",
    "\n",
    "The process begins with a root node representing the entire dataset. \n",
    "At each node, the tree evaluates the features to determine the best way to split the data, \n",
    "aiming to maximize the separation between different classes or minimize variance in regression tasks. \n",
    "\n",
    "The criterion for the best split is typically based on measures like Information Gain, Gini Impurity, \n",
    "or Variance Reduction.\n",
    "\n",
    "Once the best feature and split value are chosen, the data is divided into branches corresponding \n",
    "to the possible values of that feature. \n",
    "\n",
    "Each branch leads to a new node, where the process is repeated: evaluating features, \n",
    "determining the optimal split, and partitioning the data further. \n",
    "\n",
    "This recursive splitting continues until a stopping condition is met, such as achieving a \n",
    "pre-defined tree depth, having nodes with a minimum number of data points, or when additional \n",
    "splits no longer significantly improve the model's performance.\n",
    "\n",
    "The final output of a decision tree consists of terminal nodes or leaves, where predictions are made. \n",
    "\n",
    "For classification tasks, each leaf node represents the most frequent class label of the data points \n",
    "that reach it. \n",
    "\n",
    "For regression tasks, each leaf node contains the average value of the target variable for the \n",
    "data points that fall into that leaf. \n",
    "\n",
    "The decision tree thus provides a straightforward, hierarchical structure for making decisions \n",
    "based on input features, where each path from the root to a leaf represents a series of \n",
    "feature-based decisions leading to a prediction.\n",
    "\n",
    "\n",
    "\n",
    "\n",
    "\n",
    "\n",
    "'''"
   ]
  },
  {
   "cell_type": "markdown",
   "metadata": {},
   "source": [
    "What is information gain and how is it used in decision trees?\n"
   ]
  },
  {
   "cell_type": "code",
   "execution_count": null,
   "metadata": {},
   "outputs": [],
   "source": [
    "'''Information Gain is a metric used in decision trees to evaluate how well a feature splits \n",
    "a dataset in terms of classifying data points. \n",
    "\n",
    "It measures the reduction in entropy, or uncertainty, about the target variable that results from \n",
    "splitting the data based on a feature. \n",
    "\n",
    "Higher Information Gain indicates that a feature provides a clearer separation between classes. \n",
    "To use Information Gain, the decision tree algorithm calculates the entropy of the dataset before \n",
    "and after the split for each feature, and then computes the difference between these values. \n",
    "\n",
    "The feature with the highest Information Gain is chosen for the split, as it most effectively \n",
    "reduces uncertainty and improves the purity of the resulting subsets. \n",
    "\n",
    "This process is applied recursively at each node to build the tree, leading to a model that \n",
    "classifies data based on features that provide the most significant information about the target \n",
    "variable.\n",
    "\n",
    "'''"
   ]
  },
  {
   "cell_type": "markdown",
   "metadata": {},
   "source": [
    "Explain Gini impurity and its role in decision trees.\n"
   ]
  },
  {
   "cell_type": "code",
   "execution_count": null,
   "metadata": {},
   "outputs": [],
   "source": []
  },
  {
   "cell_type": "markdown",
   "metadata": {},
   "source": [
    "What is the hyperplane in SVM and how is\n"
   ]
  },
  {
   "cell_type": "code",
   "execution_count": null,
   "metadata": {},
   "outputs": [],
   "source": [
    "'''\n",
    "In SVM a hyperplane is a key concept used to classify data points into distinct categories. \n",
    "Essentially, it is a decision boundary that separates different classes within a feature space. \n",
    "For example, in a 2-dimensional space, the hyperplane is represented as a line, \n",
    "while in a 3-dimensional space, it appears as a plane. \n",
    "\n",
    "The primary objective of an SVM is to identify the optimal hyperplane that maximizes the margin, \n",
    "which is the distance between the hyperplane and the nearest data points from each class, \n",
    "known as support vectors. \n",
    "\n",
    "This optimal hyperplane is determined by solving a mathematical problem where the aim is to maximize \n",
    "this margin, thereby enhancing the model's ability to generalize to new data and reducing the \n",
    "risk of overfitting. \n",
    "\n",
    "In cases where the data is not linearly separable, SVMs use kernel functions to map the data into a \n",
    "higher-dimensional space where a hyperplane can effectively separate the classes.\n",
    "\n",
    "'''"
   ]
  },
  {
   "cell_type": "markdown",
   "metadata": {},
   "source": [
    "What are the advantages and disadvantages of decision trees?\n"
   ]
  },
  {
   "cell_type": "code",
   "execution_count": null,
   "metadata": {},
   "outputs": [],
   "source": [
    "\n",
    "# Advantages \n",
    "\n",
    "'''\n",
    "1.Decision trees are easy to understand and interpret, We can visualize the tree and see how \n",
    "decisions are made based on the features of the data.\n",
    "\n",
    "2.Decision trees do not require feature scaling or normalization,They can handle both \n",
    "numerical and categorical data directly.\n",
    "\n",
    "3.Decision trees can capture non-linear relationships between features and target variables.\n",
    "\n",
    "4.Decision trees inherently perform feature selection by choosing the most important features for \n",
    "splitting nodes, which can be helpful in identifying key variables in the dataset.\n",
    "\n",
    "5.They can be used for both classification and regression tasks, making them versatile for \n",
    "various types of problems.\n",
    "\n",
    "6.Decision trees are relatively robust to outliers compared to other methods like linear regression.\n",
    "\n",
    "\n",
    "'''\n",
    "\n",
    "\n",
    "# Disadvantages \n",
    "\n",
    "'''\n",
    "1. Decision trees are prone to overfitting, especially when they are allowed to grow deep.\n",
    "2. Small changes in the data can result in a completely different tree being generated.\n",
    "3. Decision trees can be biased towards features with more levels or categories. \n",
    "4. Trees can become very complex and hard to interpret if they are not pruned or if the depth is not controlled.\n",
    "5. Building a decision tree can be computationally expensive, especially for large datasets with many features.\n",
    "6. The tree-building algorithm can sometimes get stuck in local optima, especially when it comes to \n",
    "finding the best splits at each node, which may not always result in the globally optimal tree.\n",
    "\n",
    "'''"
   ]
  },
  {
   "cell_type": "markdown",
   "metadata": {},
   "source": [
    "How do random forests improve upon decision trees?\n"
   ]
  },
  {
   "cell_type": "code",
   "execution_count": null,
   "metadata": {},
   "outputs": [],
   "source": []
  },
  {
   "cell_type": "markdown",
   "metadata": {},
   "source": [
    "How does a random forest algorithm work?\n"
   ]
  },
  {
   "cell_type": "code",
   "execution_count": null,
   "metadata": {},
   "outputs": [],
   "source": [
    "'''\n",
    "A random forest is a versatile and powerful machine learning algorithm used \n",
    "for both classification and regression tasks. \n",
    "It works by combining the predictions from multiple decision trees to make a \n",
    "more accurate and stable prediction.\n",
    "'''\n",
    "# working \n",
    "\n",
    "''' \n",
    "1.Boostrap sampling \n",
    "\n",
    "The algorithm starts by creating multiple subsets of the original dataset. \n",
    "These subsets are generated using a technique called bootstrap sampling, \n",
    "which involves randomly sampling the data with replacement.\n",
    "\n",
    "2.Building a decision trees \n",
    "\n",
    "For each bootstrap sample, a decision tree is trained. \n",
    "During the training of each tree a random subset of features is selected at each node to \n",
    "decide the best split. \n",
    "This feature randomness helps ensure that the trees are diverse and not overly \n",
    "correlated with each other.\n",
    "\n",
    "3.Voting \n",
    "\n",
    "In classification problem each decision trees predict the result the random forest aggegrate the \n",
    "prediction by majority voting the most voted class is considred as final prediction.\n",
    "\n",
    "In regression the average of all prediction is considred as final prediction.\n",
    "\n",
    "4.Out-of-bag error estimators \n",
    "\n",
    "The model performance is evaluated by oob estimator.\n",
    "'''"
   ]
  },
  {
   "cell_type": "markdown",
   "metadata": {},
   "source": [
    " What is bootstrapping in the context of random forests?\n"
   ]
  },
  {
   "cell_type": "code",
   "execution_count": null,
   "metadata": {},
   "outputs": [],
   "source": [
    "'''In the context of random forest the bootstrapping is a statical techinique used to divide oraginal \n",
    "dataset into number of subsets for process of traning the multiple trees in random forest \n",
    "\n",
    "Traning of diffrent decision trees on diffrent datasets improve the accuracy of ensemble model and \n",
    "make it robust and avoid overfitting the model. \n",
    "\n",
    "Bootstrapping is crucial in random forests because it helps in creating diverse \n",
    "decision trees by training each tree on a slightly different version of the data. \n",
    "This technique enhances the overall performance of the model by combining multiple \n",
    "trees and reducing the risk of overfitting, leading to more reliable and accurate predictions.\n",
    "\n",
    "'''\n"
   ]
  },
  {
   "cell_type": "markdown",
   "metadata": {},
   "source": [
    "Explain the concept of feature importance in random forests.\n"
   ]
  },
  {
   "cell_type": "code",
   "execution_count": null,
   "metadata": {},
   "outputs": [],
   "source": [
    "'''Feature importance in random forests is a techinique used to determine which features are important \n",
    "in models predictions. \n",
    "\n",
    "This concept helps to determine the which feature influence the models performance more \n",
    "\n",
    "1.Mean decrease in impurity \n",
    "\n",
    "This method measures the importance of a feature based on how much it decreases the impurity \n",
    "(e.g., Gini impurity or entropy) at each split in the decision trees.\n",
    "\n",
    "\n",
    "2.Mean decrease accuracy \n",
    "\n",
    "This method measures the importance of a feature by evaluating how the models accuracy \n",
    "changes when the feature's values are shuffled\n",
    "\n",
    "\n",
    "'''\n",
    "\n",
    "# Interpreting Feature Importance\n",
    "\n",
    "'''1.Higher Scores - Features with higher importance scores have a greater impact on the models \n",
    "predictions. \n",
    "They contribute more to the decision-making process of the model.\n",
    "\n",
    "2.Feature Ranking - By ranking features based on their importance scores, \n",
    "we can identify which features are most influential.\n",
    "\n",
    "3.Feature Contribution - Analyzing feature importance can reveal how different features \n",
    "influence predictions, \n",
    "which is valuable for understanding the model and making data-driven decisions.\n",
    "\n",
    "'''"
   ]
  },
  {
   "cell_type": "markdown",
   "metadata": {},
   "source": [
    " What are the key hyperparameters of a random forest and how do they affect the model?"
   ]
  },
  {
   "cell_type": "code",
   "execution_count": null,
   "metadata": {},
   "outputs": [],
   "source": [
    "'''Random forest have serval key hyperparameters which influence the model performance.\n",
    "\n",
    "1.Number of trees (n_estimators)\n",
    "\n",
    "The more the number of trees the more model is accurate and give better results, however more number of trees increases the \n",
    "complexity of model and increase memory uses \n",
    "With n_estimators we can controlls the number of trees.\n",
    "\n",
    "\n",
    "2.Maximum depth of tree (max_depth)\n",
    "\n",
    "This hyperparameter determine the maximum depth of decision trees, because the large depth of the model \n",
    "leads to capture noise and make model prone to overfit.\n",
    "\n",
    "3.Minimum samples per leaf (min_samples_leaf)\n",
    "\n",
    "This will also helps in minimizing overfitting by controlling the number of nodes in a trees, a\n",
    "smaller value can leads more detailed split and potencially overfitting.\n",
    "\n",
    "4.maximum features (max_features)\n",
    "\n",
    "Limiting the number of feature at each split introduce randomness and diversity in model, which helps \n",
    "in reducing the overfitting.\n",
    "\n",
    "5.Boostrap sampling -When keeps true the model will be trained on diffrent sample of original datasets.\n",
    "\n",
    "6. ooB score when keeps true it will evaluate models performance.\n",
    "\n",
    "7.criterion - The functions measure the quality of splits common options are gini for classification and mse \n",
    "for regression. \n",
    "\n",
    "'''"
   ]
  },
  {
   "cell_type": "markdown",
   "metadata": {},
   "source": [
    "Describe the logistic regression model and its assumptions.\n"
   ]
  },
  {
   "cell_type": "code",
   "execution_count": null,
   "metadata": {},
   "outputs": [],
   "source": [
    "'''Logistic regression is a statical model used for binary classification problems \n",
    "\n",
    "Logistic regression models the probability that a given input belongs to a particular class. \n",
    "The output is a probability value between 0 and 1, which is then mapped to a binary class label.\n",
    "\n",
    "The model uses the logastic function called sigmoid function to transfor linear combination of input \n",
    "into probability values \n",
    "sig(z) = 1/e^-1\n",
    "z = A0 + A1x1 + A2x2 + A3x3 .....+ Anxn\n",
    "\n",
    "The logastic regression model predict the probability using the sigmoid function applied to linear\n",
    "combination of features. \n",
    "\n",
    "A threshold commonly (0.5) used to classify the probability output into one of the binary class \n",
    "if the probability greater than threshold the model predict 1 otherwise 0.\n",
    "\n",
    "'''\n",
    "\n",
    "# Assumptions of logistic regression \n",
    "\n",
    "''' \n",
    "1.Linearity of the logits \n",
    "\n",
    "Logistic regression assumes that there is a linear relationship between the log-odds of the \n",
    "dependent variable and the independent variables.\n",
    "\n",
    "2.Independence observation \n",
    "\n",
    "The observations should be independent of each other. \n",
    "The logistic regression model assumes that the data points are not correlated with one another.\n",
    "\n",
    "3.No Multicollinearity\n",
    "\n",
    "The independent variable should not be highly correlated with each other. \n",
    "\n",
    "4.Binary output - The dependent variable should be binary.\n",
    "\n",
    "5.Homoscedasticity - Logistic regression assumes that the variance of the errors is constant across all\n",
    "levels of the independent variables. \n",
    "This is more critical in linear regression but still \n",
    "relevant in logistic regression to ensure stable estimates.\n",
    "\n",
    "6.Large sample size - Logistic regression benefits from a large sample size to ensure reliable \n",
    "estimates of the coefficients. \n",
    "With a small sample size the estimates might be unstable and less reliable.\n",
    "\n",
    "\n",
    "'''"
   ]
  },
  {
   "cell_type": "markdown",
   "metadata": {},
   "source": [
    " How does logistic regression handle binary classification problems?"
   ]
  },
  {
   "cell_type": "code",
   "execution_count": null,
   "metadata": {},
   "outputs": [],
   "source": [
    "# How logastic regression works \n",
    "\n",
    "''' \n",
    "1.Probability estimators \n",
    "\n",
    "Logistic regression estimates the probability that a given input belongs to a particular class \n",
    "typically labeled as 1. \n",
    "\n",
    "The probability is modeled as a function of the input features.\n",
    "\n",
    "The logistic function (or sigmoid function) is used to map the linear combination \n",
    "of input features to a probability value between 0 and 1. \n",
    "\n",
    "\n",
    "2.Logistic function \n",
    "\n",
    "This logit function linearizes the relationship between the \n",
    "predictors and the log-odds of the outcome.\n",
    "\n",
    "3.Decision boundry \n",
    "\n",
    "To classify new observation, the logistic regression model calculates the probability \n",
    "A threshold value typically 0.5 is use to determine the class label. \n",
    "\n",
    "If probability value is greater than threshold value it returns 1 \n",
    "otherwise 0. \n",
    "\n",
    "'''"
   ]
  },
  {
   "cell_type": "markdown",
   "metadata": {},
   "source": [
    "What is the sigmoid function and how is it used in logistic regression?\n"
   ]
  },
  {
   "cell_type": "code",
   "execution_count": null,
   "metadata": {},
   "outputs": [],
   "source": [
    "'''The sigmoid function, also known as the logistic function, is a mathematical function that \n",
    "maps any real-valued number into the range between 0 and 1. \n",
    "It is central to logistic regression because it transforms the output of a linear combination of \n",
    "features into a probability, which is crucial for binary classification tasks. \n",
    "\n",
    "sig(z) = 1/1+e^-z , where z is the input function which is linear combination of functions. \n",
    "\n",
    "The graph of sigmoid function has s shaped curve \n",
    "\n",
    "The range of function is between o and 1 \n",
    "\n",
    "The sigmoid function in logistic regression is used to convert the linear combination of features \n",
    "into a probability value between 0 and 1. \n",
    "This probability represents the likelihood of an observation belonging to the positive class. \n",
    "The sigmoid functions output is used to make binary classification decisions based on a chosen \n",
    "threshold, and it is integral to the training process where the model coefficients are estimated \n",
    "to best fit the observed data.\n",
    "'''"
   ]
  },
  {
   "cell_type": "markdown",
   "metadata": {},
   "source": [
    "Explain the concept of the cost function in logistic regression.\n"
   ]
  },
  {
   "cell_type": "code",
   "execution_count": null,
   "metadata": {},
   "outputs": [],
   "source": [
    "'''\n",
    "In logistic regression, the cost function  measures how well the model's predictions match the \n",
    "actual outcomes. \n",
    "The primary objective in logistic regression is to find the model parameters that minimize this cost \n",
    "function, thereby improving the model's accuracy and predictive performance. \n",
    "\n",
    "'''\n",
    "\n",
    "# Cost Function in Logistic Regression\n",
    "\n",
    "'''\n",
    "The cost function used in logistic regression is typically the binary cross-entropy loss \n",
    "also known as log-loss. \n",
    "It quantifies the difference between the predicted probabilities and the actual binary outcomes.\n",
    "\n",
    "\n",
    ".............\n",
    "\n",
    "'''"
   ]
  },
  {
   "cell_type": "markdown",
   "metadata": {},
   "source": [
    " How can logistic regression be extended to handle multiclass classification?"
   ]
  },
  {
   "cell_type": "code",
   "execution_count": null,
   "metadata": {},
   "outputs": [],
   "source": [
    "'''\n",
    "Logistic regression can be extended to handle multiclass classification through two primary techniques \n",
    "one-vs-rest (OvR) and softmax regression. \n",
    "Each approach addresses the challenge of predicting more than two classes.\n",
    "\n",
    "In the one-vs-rest approach, multiple binary classifiers are used to handle multiclass classification. \n",
    "For each class a separate logistic regression model is trained to distinguish that class from all \n",
    "other classes.\n",
    "\n",
    "Softmax regression\n",
    "\n",
    "Softmax regression extends logistic regression to multiclass problems by generalizing the binary logistic regression model to handle multiple classes in a single model. \n",
    "It calculates probabilities for all classes simultaneously.\n",
    "\n",
    "The model is trained to minimize the cross-entropy loss function, which measures the difference \n",
    "between the predicted probability distribution and the actual class labels.\n",
    "\n",
    "For a new instance the class with the highest probability from the softmax \n",
    "function is chosen as the final prediction.\n",
    "'''"
   ]
  },
  {
   "cell_type": "markdown",
   "metadata": {},
   "source": [
    "What is the difference between Ll and L2 regularization in logistic regression?\n"
   ]
  },
  {
   "cell_type": "code",
   "execution_count": null,
   "metadata": {},
   "outputs": [],
   "source": [
    "'''L1 and L2 are both regularization techiniques in logistic regression used to prevent overfitting \n",
    "by controlling the size of coefficient in model '''\n",
    "\n",
    "\n",
    "# L1 Regularization (Lasso)\n",
    "'''\n",
    "\n",
    "Penalty - Adds a penalty equal to the sum of the absolute values of the coefficients.\n",
    "\n",
    "Effect on Coefficients - Tends to shrink some coefficients exactly to zero, effectively removing less important features from the model.\n",
    "\n",
    "Use Case- Useful when we want a simpler model with fewer features.\n",
    "\n",
    "'''\n",
    "\n",
    "# L2 Regularization (Ridge)\n",
    "\n",
    "'''\n",
    "Penalty - Adds a penalty equal to the sum of the squares of the coefficients.\n",
    "\n",
    "Effect on Coefficients - Shrinks all coefficients but usually does not set any of them to zero. \n",
    "It reduces their impact without completely removing features.\n",
    "\n",
    "Use Case - Useful when you want to keep all features but reduce their effect to prevent overfitting.\n",
    "\n",
    "\n",
    "'''"
   ]
  },
  {
   "cell_type": "markdown",
   "metadata": {},
   "source": [
    "\n"
   ]
  },
  {
   "cell_type": "code",
   "execution_count": null,
   "metadata": {},
   "outputs": [],
   "source": []
  },
  {
   "cell_type": "markdown",
   "metadata": {},
   "source": [
    "Explain the concept of boosting in the context of ensemble learning.\n"
   ]
  },
  {
   "cell_type": "code",
   "execution_count": null,
   "metadata": {},
   "outputs": [],
   "source": [
    "'''\n",
    "Boosting is a popular technique in ensemble learning that aims to improve the \n",
    "performance of predictive models by combining the outputs of several weak learners to create a \n",
    "strong learner.\n",
    "\n",
    "Weak Learners are models that perform slightly better than random guessing.\n",
    "They are typically simple models, like small decision trees also known as stumps.\n",
    "\n",
    "Strong Learners are models that perform well on the task at hand, often achieving high accuracy. \n",
    "Boosting aims to construct a strong learner from multiple weak learners.\n",
    "\n",
    "'''\n",
    "\n",
    "# How boosting works \n",
    "\n",
    "''' \n",
    "1.Begain with basic model like simple decision trees\n",
    "2.Focus on all the predictions made by basic models and find mistake made \n",
    "3.Train a new model that tries to correct this mistakes\n",
    "4.Combine the predictions of all the model to make a final more accurate prediction \n",
    "'''\n",
    "\n",
    "'''\n",
    "By combining many models, the final prediction is more accurate than any individual model\n",
    "Each new model learns from the errors of previous ones, so the final model \n",
    "becomes much better at predicting\n",
    "'''"
   ]
  },
  {
   "cell_type": "markdown",
   "metadata": {},
   "source": [
    "How does XGBoost handle missing values?\n"
   ]
  },
  {
   "cell_type": "code",
   "execution_count": null,
   "metadata": {},
   "outputs": [],
   "source": [
    "'''\n",
    "XGBoost handles missing values efficiently by incorporating them directly into the training process. \n",
    "\n",
    "It automatically determines the optimal way to handle missing values during the tree-building phase, \n",
    "learning which path (left or right) to take for these values based on minimizing the model's error. \n",
    "\n",
    "This means that missing values are treated as a form of sparsity, and the model adjusts its splits\n",
    "accordingly to improve predictive performance. \n",
    "\n",
    "During prediction, XGBoost uses the learned paths to handle missing data seamlessly. \n",
    "This approach eliminates the need for extensive preprocessing or imputation, making XGBoost \n",
    "particularly robust and effective with real-world datasets that often contain missing values.\n",
    "\n",
    "'''"
   ]
  },
  {
   "cell_type": "markdown",
   "metadata": {},
   "source": [
    "What are the key hyperparameters in XGBoost and how do they affect model performance?\n"
   ]
  },
  {
   "cell_type": "code",
   "execution_count": null,
   "metadata": {},
   "outputs": [],
   "source": [
    "'''XGBoost have serval parameter that influence the models performance '''\n",
    "'''\n",
    "1. n_estimitors -  Increasing n_estimators can improve model accuracy as more trees capture complex \n",
    "patterns. However, too many trees can lead to overfitting and increased computational cost.\n",
    "\n",
    "2.learning rate -  A smaller learning_rate makes the model learn more slowly, often requiring more \n",
    "trees to achieve good performance but can lead to better generalization and less overfitting.\n",
    "\n",
    "Larger values speed up learning but can risk overfitting.\n",
    "\n",
    "3.max depth - Deeper trees can model more complex relationships but might overfit the training data. \n",
    "Shallower trees are less prone to overfitting but might underfit if too shallow.\n",
    "\n",
    "4.gamma -  A higher gamma value requires a larger reduction in loss to make further splits, \n",
    "which can help in regularizing the model and reducing overfitting. \n",
    "Lower values make the model more complex.\n",
    "\n",
    "5-lambda (L2 regularization) and alpha (L1 regularization)- Increasing lambda and alpha adds regularization, \n",
    "which can help in preventing overfitting by penalizing large coefficients. \n",
    "Higher values make the model more conservative.\n",
    "\n",
    "\n",
    "\n",
    "\n",
    "'''"
   ]
  },
  {
   "cell_type": "markdown",
   "metadata": {},
   "source": [
    "Describe the process of gradient boosting in XGBoost.\n"
   ]
  },
  {
   "cell_type": "code",
   "execution_count": null,
   "metadata": {},
   "outputs": [],
   "source": [
    "'''\n",
    "Gradient boosting in XGBoost involves building a predictive model iteratively by refining errors from \n",
    "previous models. \n",
    "\n",
    "It starts with a simple initial prediction and calculates the residuals, or errors, between this \n",
    "prediction and the actual values. \n",
    "\n",
    "A new decision tree is then trained to predict these residuals, effectively learning where the \n",
    "previous model made mistakes. \n",
    "\n",
    "This new tree's predictions are combined with the existing model's predictions, \n",
    "adjusted by a learning rate to control the impact of each new tree. \n",
    "\n",
    "This process of calculating residuals, training new trees, and updating the model is repeated for a \n",
    "specified number of iterations or until improvements are minimal. \n",
    "\n",
    "The final model is an ensemble of all the trees built, which collectively provide a more accurate \n",
    "and robust prediction by addressing the errors of each previous iteration.'''"
   ]
  },
  {
   "cell_type": "markdown",
   "metadata": {},
   "source": [
    "What are the advantages and disadvantages of using XGBoost?"
   ]
  },
  {
   "cell_type": "code",
   "execution_count": null,
   "metadata": {},
   "outputs": [],
   "source": [
    "# Advantages \n",
    "\n",
    "''' \n",
    "1.High performance - XGBoost often delivers superior performance compared to other algorithms due to its ability to handle complex patterns in data and its \n",
    "efficient use of computational resources.\n",
    "\n",
    "2.Regularization -  It includes L1 (Lasso) and L2 (Ridge) regularization, which help prevent overfitting \n",
    "by penalizing large coefficients and making the model more generalizable.\n",
    "\n",
    "3.Handle missing values - XGBoost can automatically handle missing values during training, which simplifies preprocessing \n",
    "and improves robustness.\n",
    "\n",
    "4.Flexibility - It supports various objective functions for classification, regression, and ranking tasks. \n",
    "This makes it versatile for different types of problems.\n",
    "\n",
    "5.Feature Importance - XGBoost provides tools to evaluate feature importance, which helps in \n",
    "understanding the impact of different features on the predictions and aids in feature selection.\n",
    "\n",
    "6.Scalability- It is designed to scale well with large datasets and high-dimensional data due to its efficient implementation, \n",
    "parallel processing, and optimization algorithms.\n",
    "\n",
    "'''\n",
    "\n",
    "# Disadvantages \n",
    "\n",
    "'''\n",
    "1. complexity - XGBoost have lot of parameters that makes it more complex. \n",
    "2. overfitting - The model will be prone to overfit if not tuned well. \n",
    "3. computationally intensive - Traning a lot of decision trees on large datasets required lot of computational power \n",
    "4. XGBoost's performance is highly dependent on the quality of the data.\n",
    "5. Interpretability -  XGBoost can be less interpretable compared to simpler models, making it harder to understand the underlying decision-making process.\n",
    "\n",
    "'''"
   ]
  }
 ],
 "metadata": {
  "kernelspec": {
   "display_name": "Python 3",
   "language": "python",
   "name": "python3"
  },
  "language_info": {
   "codemirror_mode": {
    "name": "ipython",
    "version": 3
   },
   "file_extension": ".py",
   "mimetype": "text/x-python",
   "name": "python",
   "nbconvert_exporter": "python",
   "pygments_lexer": "ipython3",
   "version": "3.8.10"
  }
 },
 "nbformat": 4,
 "nbformat_minor": 2
}
